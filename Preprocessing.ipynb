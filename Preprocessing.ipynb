{
 "cells": [
  {
   "cell_type": "code",
   "execution_count": 1,
   "metadata": {},
   "outputs": [],
   "source": [
    "import os\n",
    "import numpy as np\n",
    "import pandas as pd"
   ]
  },
  {
   "cell_type": "code",
   "execution_count": 2,
   "metadata": {},
   "outputs": [
    {
     "name": "stdout",
     "output_type": "stream",
     "text": "Los archivos han sido cargados\n"
    }
   ],
   "source": [
    "if not (os.path.exists('./data/userid-profile.tsv') and os.path.exists('./data/userid-timestamp-artid-artname-traid-traname.tsv')):\n",
    "  raise ValueError('Los archivos userid-profile y userid-timestamp-artid-artname-traid-traname no fueron encontrados en el path')\n",
    "else:\n",
    "  print(\"Los archivos han sido cargados\")"
   ]
  },
  {
   "cell_type": "code",
   "execution_count": 3,
   "metadata": {},
   "outputs": [],
   "source": [
    "users=pd.read_csv('./data/userid-profile.tsv', sep = '\\t', header=0 )"
   ]
  },
  {
   "cell_type": "code",
   "execution_count": 4,
   "metadata": {},
   "outputs": [],
   "source": [
    "activity=pd.read_csv('./data/userid-timestamp-artid-artname-traid-traname.tsv', sep = '\\t', names = [ 'userid', 'timestamp', 'musicbrainz-artist-id', 'artist-name', 'musicbrainz-track-id', 'track-name' ])"
   ]
  },
  {
   "cell_type": "code",
   "execution_count": 5,
   "metadata": {},
   "outputs": [
    {
     "data": {
      "text/html": "<div>\n<style scoped>\n    .dataframe tbody tr th:only-of-type {\n        vertical-align: middle;\n    }\n\n    .dataframe tbody tr th {\n        vertical-align: top;\n    }\n\n    .dataframe thead th {\n        text-align: right;\n    }\n</style>\n<table border=\"1\" class=\"dataframe\">\n  <thead>\n    <tr style=\"text-align: right;\">\n      <th></th>\n      <th>userid</th>\n      <th>timestamp</th>\n      <th>musicbrainz-artist-id</th>\n      <th>artist-name</th>\n      <th>musicbrainz-track-id</th>\n      <th>track-name</th>\n    </tr>\n  </thead>\n  <tbody>\n    <tr>\n      <th>0</th>\n      <td>user_000001</td>\n      <td>2009-05-04T23:08:57Z</td>\n      <td>f1b1cf71-bd35-4e99-8624-24a6e15f133a</td>\n      <td>Deep Dish</td>\n      <td>NaN</td>\n      <td>Fuck Me Im Famous (Pacha Ibiza)-09-28-2007</td>\n    </tr>\n    <tr>\n      <th>1</th>\n      <td>user_000001</td>\n      <td>2009-05-04T13:54:10Z</td>\n      <td>a7f7df4a-77d8-4f12-8acd-5c60c93f4de8</td>\n      <td>坂本龍一</td>\n      <td>NaN</td>\n      <td>Composition 0919 (Live_2009_4_15)</td>\n    </tr>\n    <tr>\n      <th>2</th>\n      <td>user_000001</td>\n      <td>2009-05-04T13:52:04Z</td>\n      <td>a7f7df4a-77d8-4f12-8acd-5c60c93f4de8</td>\n      <td>坂本龍一</td>\n      <td>NaN</td>\n      <td>Mc2 (Live_2009_4_15)</td>\n    </tr>\n    <tr>\n      <th>3</th>\n      <td>user_000001</td>\n      <td>2009-05-04T13:42:52Z</td>\n      <td>a7f7df4a-77d8-4f12-8acd-5c60c93f4de8</td>\n      <td>坂本龍一</td>\n      <td>NaN</td>\n      <td>Hibari (Live_2009_4_15)</td>\n    </tr>\n    <tr>\n      <th>4</th>\n      <td>user_000001</td>\n      <td>2009-05-04T13:42:11Z</td>\n      <td>a7f7df4a-77d8-4f12-8acd-5c60c93f4de8</td>\n      <td>坂本龍一</td>\n      <td>NaN</td>\n      <td>Mc1 (Live_2009_4_15)</td>\n    </tr>\n    <tr>\n      <th>5</th>\n      <td>user_000001</td>\n      <td>2009-05-04T13:38:31Z</td>\n      <td>a7f7df4a-77d8-4f12-8acd-5c60c93f4de8</td>\n      <td>坂本龍一</td>\n      <td>NaN</td>\n      <td>To Stanford (Live_2009_4_15)</td>\n    </tr>\n    <tr>\n      <th>6</th>\n      <td>user_000001</td>\n      <td>2009-05-04T13:33:28Z</td>\n      <td>a7f7df4a-77d8-4f12-8acd-5c60c93f4de8</td>\n      <td>坂本龍一</td>\n      <td>NaN</td>\n      <td>Improvisation (Live_2009_4_15)</td>\n    </tr>\n    <tr>\n      <th>7</th>\n      <td>user_000001</td>\n      <td>2009-05-04T13:23:45Z</td>\n      <td>a7f7df4a-77d8-4f12-8acd-5c60c93f4de8</td>\n      <td>坂本龍一</td>\n      <td>NaN</td>\n      <td>Glacier (Live_2009_4_15)</td>\n    </tr>\n    <tr>\n      <th>8</th>\n      <td>user_000001</td>\n      <td>2009-05-04T13:19:22Z</td>\n      <td>a7f7df4a-77d8-4f12-8acd-5c60c93f4de8</td>\n      <td>坂本龍一</td>\n      <td>NaN</td>\n      <td>Parolibre (Live_2009_4_15)</td>\n    </tr>\n    <tr>\n      <th>9</th>\n      <td>user_000001</td>\n      <td>2009-05-04T13:13:38Z</td>\n      <td>a7f7df4a-77d8-4f12-8acd-5c60c93f4de8</td>\n      <td>坂本龍一</td>\n      <td>NaN</td>\n      <td>Bibo No Aozora (Live_2009_4_15)</td>\n    </tr>\n  </tbody>\n</table>\n</div>",
      "text/plain": "        userid             timestamp                 musicbrainz-artist-id  \\\n0  user_000001  2009-05-04T23:08:57Z  f1b1cf71-bd35-4e99-8624-24a6e15f133a   \n1  user_000001  2009-05-04T13:54:10Z  a7f7df4a-77d8-4f12-8acd-5c60c93f4de8   \n2  user_000001  2009-05-04T13:52:04Z  a7f7df4a-77d8-4f12-8acd-5c60c93f4de8   \n3  user_000001  2009-05-04T13:42:52Z  a7f7df4a-77d8-4f12-8acd-5c60c93f4de8   \n4  user_000001  2009-05-04T13:42:11Z  a7f7df4a-77d8-4f12-8acd-5c60c93f4de8   \n5  user_000001  2009-05-04T13:38:31Z  a7f7df4a-77d8-4f12-8acd-5c60c93f4de8   \n6  user_000001  2009-05-04T13:33:28Z  a7f7df4a-77d8-4f12-8acd-5c60c93f4de8   \n7  user_000001  2009-05-04T13:23:45Z  a7f7df4a-77d8-4f12-8acd-5c60c93f4de8   \n8  user_000001  2009-05-04T13:19:22Z  a7f7df4a-77d8-4f12-8acd-5c60c93f4de8   \n9  user_000001  2009-05-04T13:13:38Z  a7f7df4a-77d8-4f12-8acd-5c60c93f4de8   \n\n  artist-name musicbrainz-track-id                                  track-name  \n0   Deep Dish                  NaN  Fuck Me Im Famous (Pacha Ibiza)-09-28-2007  \n1        坂本龍一                  NaN           Composition 0919 (Live_2009_4_15)  \n2        坂本龍一                  NaN                        Mc2 (Live_2009_4_15)  \n3        坂本龍一                  NaN                     Hibari (Live_2009_4_15)  \n4        坂本龍一                  NaN                        Mc1 (Live_2009_4_15)  \n5        坂本龍一                  NaN                To Stanford (Live_2009_4_15)  \n6        坂本龍一                  NaN              Improvisation (Live_2009_4_15)  \n7        坂本龍一                  NaN                    Glacier (Live_2009_4_15)  \n8        坂本龍一                  NaN                  Parolibre (Live_2009_4_15)  \n9        坂本龍一                  NaN             Bibo No Aozora (Live_2009_4_15)  "
     },
     "execution_count": 5,
     "metadata": {},
     "output_type": "execute_result"
    }
   ],
   "source": [
    "activity.head(10)"
   ]
  },
  {
   "cell_type": "markdown",
   "metadata": {},
   "source": [
    "### Primero removemos los 50 usuarios con menos interacciones para reducir el tamaño del dataframe"
   ]
  },
  {
   "cell_type": "code",
   "execution_count": 6,
   "metadata": {},
   "outputs": [],
   "source": [
    "activity_lastFifty = activity.groupby('userid')['artist-name'].agg({'count'}).sort_values(by='count', ascending=False).tail(50)"
   ]
  },
  {
   "cell_type": "code",
   "execution_count": 7,
   "metadata": {},
   "outputs": [],
   "source": [
    "activity_lastFifty_union = activity.merge(activity_lastFifty, how='inner', left_on='userid', right_index=True)\n",
    "activity_lastFifty_union = activity_lastFifty_union[['userid', 'timestamp', 'musicbrainz-artist-id', 'artist-name', 'musicbrainz-track-id', 'track-name']]"
   ]
  },
  {
   "cell_type": "code",
   "execution_count": 8,
   "metadata": {},
   "outputs": [],
   "source": [
    "dataframes = [activity,activity_lastFifty_union]\n",
    "reduced_activity = pd.concat(dataframes).drop_duplicates(keep=False)"
   ]
  },
  {
   "cell_type": "markdown",
   "metadata": {},
   "source": [
    "### Luego contamos las veces en las que un usuario escuchó un artista"
   ]
  },
  {
   "cell_type": "code",
   "execution_count": 9,
   "metadata": {},
   "outputs": [],
   "source": [
    "user_artists_count = reduced_activity.groupby(['userid', 'artist-name']).count()"
   ]
  },
  {
   "cell_type": "code",
   "execution_count": 16,
   "metadata": {},
   "outputs": [],
   "source": [
    "sorted_user_artists_count = user_artists_count['track-name'].reset_index(name='count').sort_values(['userid', 'count'], ascending=False)"
   ]
  },
  {
   "cell_type": "markdown",
   "metadata": {},
   "source": [
    "### Por último sacamos un rating basado en la cantidad de veces que un artista fué escuchado de manera proporcional"
   ]
  },
  {
   "cell_type": "code",
   "execution_count": 17,
   "metadata": {},
   "outputs": [],
   "source": [
    "# obtenemos un dataframe con el maximo de reproducciones por cada usuario\n",
    "user_max = pd.DataFrame(sorted_user_artists_count.groupby(['userid'], sort=False)['count'].max()).reset_index()\n",
    "user_max.columns = ['userid', 'max']"
   ]
  },
  {
   "cell_type": "code",
   "execution_count": 18,
   "metadata": {},
   "outputs": [],
   "source": [
    "# hacemos merge con la tabla de usuarios y artistas\n",
    "sorted_user_artists_count_max = sorted_user_artists_count.merge(user_max, how='left', left_on='userid', right_on='userid')"
   ]
  },
  {
   "cell_type": "code",
   "execution_count": 19,
   "metadata": {},
   "outputs": [
    {
     "data": {
      "text/html": "<div>\n<style scoped>\n    .dataframe tbody tr th:only-of-type {\n        vertical-align: middle;\n    }\n\n    .dataframe tbody tr th {\n        vertical-align: top;\n    }\n\n    .dataframe thead th {\n        text-align: right;\n    }\n</style>\n<table border=\"1\" class=\"dataframe\">\n  <thead>\n    <tr style=\"text-align: right;\">\n      <th></th>\n      <th>userid</th>\n      <th>artist-name</th>\n      <th>count</th>\n      <th>max</th>\n    </tr>\n  </thead>\n  <tbody>\n    <tr>\n      <th>0</th>\n      <td>user_001000</td>\n      <td>Wilco</td>\n      <td>455</td>\n      <td>455</td>\n    </tr>\n    <tr>\n      <th>1</th>\n      <td>user_001000</td>\n      <td>Radiohead</td>\n      <td>444</td>\n      <td>455</td>\n    </tr>\n    <tr>\n      <th>2</th>\n      <td>user_001000</td>\n      <td>Animal Collective</td>\n      <td>432</td>\n      <td>455</td>\n    </tr>\n    <tr>\n      <th>3</th>\n      <td>user_001000</td>\n      <td>Girl Talk</td>\n      <td>417</td>\n      <td>455</td>\n    </tr>\n    <tr>\n      <th>4</th>\n      <td>user_001000</td>\n      <td>Aesop Rock</td>\n      <td>383</td>\n      <td>455</td>\n    </tr>\n    <tr>\n      <th>...</th>\n      <td>...</td>\n      <td>...</td>\n      <td>...</td>\n      <td>...</td>\n    </tr>\n    <tr>\n      <th>894494</th>\n      <td>user_000001</td>\n      <td>曽我部恵一</td>\n      <td>1</td>\n      <td>855</td>\n    </tr>\n    <tr>\n      <th>894495</th>\n      <td>user_000001</td>\n      <td>畠山美由紀</td>\n      <td>1</td>\n      <td>855</td>\n    </tr>\n    <tr>\n      <th>894496</th>\n      <td>user_000001</td>\n      <td>細野晴臣</td>\n      <td>1</td>\n      <td>855</td>\n    </tr>\n    <tr>\n      <th>894497</th>\n      <td>user_000001</td>\n      <td>青柳拓次</td>\n      <td>1</td>\n      <td>855</td>\n    </tr>\n    <tr>\n      <th>894498</th>\n      <td>user_000001</td>\n      <td>首里フジコ</td>\n      <td>1</td>\n      <td>855</td>\n    </tr>\n  </tbody>\n</table>\n<p>894499 rows × 4 columns</p>\n</div>",
      "text/plain": "             userid        artist-name  count  max\n0       user_001000              Wilco    455  455\n1       user_001000          Radiohead    444  455\n2       user_001000  Animal Collective    432  455\n3       user_001000          Girl Talk    417  455\n4       user_001000         Aesop Rock    383  455\n...             ...                ...    ...  ...\n894494  user_000001              曽我部恵一      1  855\n894495  user_000001              畠山美由紀      1  855\n894496  user_000001               細野晴臣      1  855\n894497  user_000001               青柳拓次      1  855\n894498  user_000001              首里フジコ      1  855\n\n[894499 rows x 4 columns]"
     },
     "execution_count": 19,
     "metadata": {},
     "output_type": "execute_result"
    }
   ],
   "source": [
    "sorted_user_artists_count_max"
   ]
  },
  {
   "cell_type": "code",
   "execution_count": 20,
   "metadata": {},
   "outputs": [
    {
     "data": {
      "text/html": "<div>\n<style scoped>\n    .dataframe tbody tr th:only-of-type {\n        vertical-align: middle;\n    }\n\n    .dataframe tbody tr th {\n        vertical-align: top;\n    }\n\n    .dataframe thead th {\n        text-align: right;\n    }\n</style>\n<table border=\"1\" class=\"dataframe\">\n  <thead>\n    <tr style=\"text-align: right;\">\n      <th></th>\n      <th>userid</th>\n      <th>artist-name</th>\n      <th>count</th>\n      <th>max</th>\n      <th>rating</th>\n    </tr>\n  </thead>\n  <tbody>\n    <tr>\n      <th>0</th>\n      <td>user_001000</td>\n      <td>Wilco</td>\n      <td>455</td>\n      <td>455</td>\n      <td>5.0</td>\n    </tr>\n    <tr>\n      <th>1</th>\n      <td>user_001000</td>\n      <td>Radiohead</td>\n      <td>444</td>\n      <td>455</td>\n      <td>4.9</td>\n    </tr>\n    <tr>\n      <th>2</th>\n      <td>user_001000</td>\n      <td>Animal Collective</td>\n      <td>432</td>\n      <td>455</td>\n      <td>4.7</td>\n    </tr>\n    <tr>\n      <th>3</th>\n      <td>user_001000</td>\n      <td>Girl Talk</td>\n      <td>417</td>\n      <td>455</td>\n      <td>4.6</td>\n    </tr>\n    <tr>\n      <th>4</th>\n      <td>user_001000</td>\n      <td>Aesop Rock</td>\n      <td>383</td>\n      <td>455</td>\n      <td>4.2</td>\n    </tr>\n    <tr>\n      <th>...</th>\n      <td>...</td>\n      <td>...</td>\n      <td>...</td>\n      <td>...</td>\n      <td>...</td>\n    </tr>\n    <tr>\n      <th>894494</th>\n      <td>user_000001</td>\n      <td>曽我部恵一</td>\n      <td>1</td>\n      <td>855</td>\n      <td>0.0</td>\n    </tr>\n    <tr>\n      <th>894495</th>\n      <td>user_000001</td>\n      <td>畠山美由紀</td>\n      <td>1</td>\n      <td>855</td>\n      <td>0.0</td>\n    </tr>\n    <tr>\n      <th>894496</th>\n      <td>user_000001</td>\n      <td>細野晴臣</td>\n      <td>1</td>\n      <td>855</td>\n      <td>0.0</td>\n    </tr>\n    <tr>\n      <th>894497</th>\n      <td>user_000001</td>\n      <td>青柳拓次</td>\n      <td>1</td>\n      <td>855</td>\n      <td>0.0</td>\n    </tr>\n    <tr>\n      <th>894498</th>\n      <td>user_000001</td>\n      <td>首里フジコ</td>\n      <td>1</td>\n      <td>855</td>\n      <td>0.0</td>\n    </tr>\n  </tbody>\n</table>\n<p>894499 rows × 5 columns</p>\n</div>",
      "text/plain": "             userid        artist-name  count  max  rating\n0       user_001000              Wilco    455  455     5.0\n1       user_001000          Radiohead    444  455     4.9\n2       user_001000  Animal Collective    432  455     4.7\n3       user_001000          Girl Talk    417  455     4.6\n4       user_001000         Aesop Rock    383  455     4.2\n...             ...                ...    ...  ...     ...\n894494  user_000001              曽我部恵一      1  855     0.0\n894495  user_000001              畠山美由紀      1  855     0.0\n894496  user_000001               細野晴臣      1  855     0.0\n894497  user_000001               青柳拓次      1  855     0.0\n894498  user_000001              首里フジコ      1  855     0.0\n\n[894499 rows x 5 columns]"
     },
     "execution_count": 20,
     "metadata": {},
     "output_type": "execute_result"
    }
   ],
   "source": [
    "# creamos una nueva columna en el dataframe con el ranking que va de 0 a 5, donde 5 es el artista mas oido y 0 el menos oido\n",
    "sorted_user_artists_count_max['rating'] = np.around((sorted_user_artists_count_max['count']/sorted_user_artists_count_max['max']) * 5, decimals=1)\n",
    "sorted_user_artists_count_max"
   ]
  },
  {
   "cell_type": "code",
   "execution_count": 21,
   "metadata": {},
   "outputs": [],
   "source": [
    "sorted_user_artists_count_max.to_csv('./data/preprocessed_user_item_rating.csv')"
   ]
  },
  {
   "cell_type": "code",
   "execution_count": 24,
   "metadata": {},
   "outputs": [
    {
     "data": {
      "text/html": "<div>\n<style scoped>\n    .dataframe tbody tr th:only-of-type {\n        vertical-align: middle;\n    }\n\n    .dataframe tbody tr th {\n        vertical-align: top;\n    }\n\n    .dataframe thead th {\n        text-align: right;\n    }\n</style>\n<table border=\"1\" class=\"dataframe\">\n  <thead>\n    <tr style=\"text-align: right;\">\n      <th></th>\n      <th>userid</th>\n      <th>artist-name</th>\n      <th>count</th>\n      <th>max</th>\n      <th>rating</th>\n    </tr>\n  </thead>\n  <tbody>\n    <tr>\n      <th>0</th>\n      <td>user_000872</td>\n      <td>Kt Tunstall</td>\n      <td>3</td>\n      <td>746</td>\n      <td>0.0</td>\n    </tr>\n    <tr>\n      <th>1</th>\n      <td>user_000327</td>\n      <td>Interpol</td>\n      <td>93</td>\n      <td>581</td>\n      <td>0.8</td>\n    </tr>\n    <tr>\n      <th>2</th>\n      <td>user_000706</td>\n      <td>The Police</td>\n      <td>2</td>\n      <td>484</td>\n      <td>0.0</td>\n    </tr>\n    <tr>\n      <th>3</th>\n      <td>user_000807</td>\n      <td>Shankar-Ehsaan-Loy</td>\n      <td>1</td>\n      <td>703</td>\n      <td>0.0</td>\n    </tr>\n    <tr>\n      <th>4</th>\n      <td>user_000223</td>\n      <td>Timo Räisänen</td>\n      <td>9</td>\n      <td>1985</td>\n      <td>0.0</td>\n    </tr>\n    <tr>\n      <th>...</th>\n      <td>...</td>\n      <td>...</td>\n      <td>...</td>\n      <td>...</td>\n      <td>...</td>\n    </tr>\n    <tr>\n      <th>894494</th>\n      <td>user_000172</td>\n      <td>Ocean'S Eleven Soundtrack</td>\n      <td>3</td>\n      <td>401</td>\n      <td>0.0</td>\n    </tr>\n    <tr>\n      <th>894495</th>\n      <td>user_000655</td>\n      <td>Pat Benatar</td>\n      <td>2</td>\n      <td>117</td>\n      <td>0.1</td>\n    </tr>\n    <tr>\n      <th>894496</th>\n      <td>user_000983</td>\n      <td>The Band</td>\n      <td>1</td>\n      <td>355</td>\n      <td>0.0</td>\n    </tr>\n    <tr>\n      <th>894497</th>\n      <td>user_000298</td>\n      <td>Outkast</td>\n      <td>48</td>\n      <td>7761</td>\n      <td>0.0</td>\n    </tr>\n    <tr>\n      <th>894498</th>\n      <td>user_000694</td>\n      <td>The Dandy Warhols</td>\n      <td>9</td>\n      <td>297</td>\n      <td>0.2</td>\n    </tr>\n  </tbody>\n</table>\n<p>894499 rows × 5 columns</p>\n</div>",
      "text/plain": "             userid                artist-name  count   max  rating\n0       user_000872                Kt Tunstall      3   746     0.0\n1       user_000327                   Interpol     93   581     0.8\n2       user_000706                 The Police      2   484     0.0\n3       user_000807         Shankar-Ehsaan-Loy      1   703     0.0\n4       user_000223              Timo Räisänen      9  1985     0.0\n...             ...                        ...    ...   ...     ...\n894494  user_000172  Ocean'S Eleven Soundtrack      3   401     0.0\n894495  user_000655                Pat Benatar      2   117     0.1\n894496  user_000983                   The Band      1   355     0.0\n894497  user_000298                    Outkast     48  7761     0.0\n894498  user_000694          The Dandy Warhols      9   297     0.2\n\n[894499 rows x 5 columns]"
     },
     "execution_count": 24,
     "metadata": {},
     "output_type": "execute_result"
    }
   ],
   "source": [
    "shuffled_ratings = sorted_user_artists_count_max.sample(frac=1).reset_index(drop=True)\n",
    "shuffled_ratings"
   ]
  },
  {
   "cell_type": "code",
   "execution_count": null,
   "metadata": {},
   "outputs": [],
   "source": [
    "sorted_user_artists_count_max.to_csv('./data/preprocessed_user_item_rating_shuffled.csv')"
   ]
  },
  {
   "cell_type": "code",
   "execution_count": null,
   "metadata": {},
   "outputs": [],
   "source": [
    "# Partimos el dataset en 2 después haberle hecho shuffle"
   ]
  },
  {
   "cell_type": "code",
   "execution_count": 29,
   "metadata": {},
   "outputs": [
    {
     "data": {
      "text/plain": "447249"
     },
     "execution_count": 29,
     "metadata": {},
     "output_type": "execute_result"
    }
   ],
   "source": [
    "import math\n",
    "num_half = math.floor((len(shuffled_ratings.index) - 1) / 2)\n",
    "num_half"
   ]
  },
  {
   "cell_type": "code",
   "execution_count": 30,
   "metadata": {},
   "outputs": [],
   "source": [
    "first_half_ratings = shuffled_ratings.iloc[:, :num_half]\n",
    "second_half_ratings = shuffled_ratings.iloc[:, num_half:]"
   ]
  },
  {
   "cell_type": "code",
   "execution_count": 31,
   "metadata": {},
   "outputs": [],
   "source": [
    "first_half_ratings.to_csv('./data/preprocessed_user_item_rating_shuffled_first_half.csv')\n",
    "second_half_ratings.to_csv('./data/preprocessed_user_item_rating_shuffled_second_half.csv')"
   ]
  },
  {
   "cell_type": "code",
   "execution_count": null,
   "metadata": {},
   "outputs": [],
   "source": []
  }
 ],
 "metadata": {
  "kernelspec": {
   "display_name": "Python 3",
   "language": "python",
   "name": "python3"
  },
  "language_info": {
   "codemirror_mode": {
    "name": "ipython",
    "version": 3
   },
   "file_extension": ".py",
   "mimetype": "text/x-python",
   "name": "python",
   "nbconvert_exporter": "python",
   "pygments_lexer": "ipython3",
   "version": "3.8.1-final"
  }
 },
 "nbformat": 4,
 "nbformat_minor": 4
}