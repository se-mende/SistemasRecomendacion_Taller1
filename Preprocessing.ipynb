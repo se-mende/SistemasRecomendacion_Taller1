{
 "cells": [
  {
   "cell_type": "code",
   "execution_count": null,
   "metadata": {},
   "outputs": [],
   "source": [
    "import os\n",
    "import numpy as np\n",
    "import pandas as pd"
   ]
  },
  {
   "cell_type": "code",
   "execution_count": null,
   "metadata": {},
   "outputs": [],
   "source": [
    "if not (os.path.exists('./data/userid-profile.tsv') and os.path.exists('./data/userid-timestamp-artid-artname-traid-traname.tsv')):\n",
    "  raise ValueError('Los archivos userid-profile y userid-timestamp-artid-artname-traid-traname no fueron encontrados en el path')\n",
    "else:\n",
    "  print(\"Los archivos han sido cargados\")"
   ]
  },
  {
   "cell_type": "code",
   "execution_count": null,
   "metadata": {},
   "outputs": [],
   "source": [
    "users=pd.read_csv('./data/userid-profile.tsv', sep = '\\t', header=0 )"
   ]
  },
  {
   "cell_type": "code",
   "execution_count": null,
   "metadata": {},
   "outputs": [],
   "source": [
    "activity=pd.read_csv('./data/userid-timestamp-artid-artname-traid-traname.tsv', sep = '\\t', names = [ 'userid', 'timestamp', 'musicbrainz-artist-id', 'artist-name', 'musicbrainz-track-id', 'track-name' ])"
   ]
  },
  {
   "cell_type": "markdown",
   "metadata": {},
   "source": [
    "### Primero removemos los 50 usuarios con menos interacciones para reducir el tamaño del dataframe"
   ]
  },
  {
   "cell_type": "code",
   "execution_count": null,
   "metadata": {},
   "outputs": [],
   "source": [
    "activity_lastFifty = activity.groupby('userid')['artist-name'].agg({'count'}).sort_values(by='count', ascending=False).tail(50)"
   ]
  },
  {
   "cell_type": "code",
   "execution_count": null,
   "metadata": {},
   "outputs": [],
   "source": [
    "activity_lastFifty_union = activity.merge(activity_lastFifty, how='inner', left_on='userid', right_index=True)\n",
    "activity_lastFifty_union = activity_lastFifty_union[['userid', 'timestamp', 'musicbrainz-artist-id', 'artist-name', 'musicbrainz-track-id', 'track-name']]"
   ]
  },
  {
   "cell_type": "code",
   "execution_count": null,
   "metadata": {},
   "outputs": [],
   "source": [
    "dataframes = [activity,activity_lastFifty_union]\n",
    "reduced_activity = pd.concat(dataframes).drop_duplicates(keep=False)"
   ]
  },
  {
   "cell_type": "markdown",
   "metadata": {},
   "source": [
    "### Luego contamos las veces en las que un usuario escuchó un artista"
   ]
  },
  {
   "cell_type": "code",
   "execution_count": null,
   "metadata": {},
   "outputs": [],
   "source": [
    "user_artists_count = reduced_activity.groupby(['userid', 'artist-name']).count()"
   ]
  },
  {
   "cell_type": "code",
   "execution_count": null,
   "metadata": {},
   "outputs": [],
   "source": [
    "sorted_user_artists_count = user_artists_count['track-name'].reset_index(name='count').sort_values(['userid', 'count'], ascending=False)\n",
    "sorted_user_artists_count['rating'] = 0"
   ]
  },
  {
   "cell_type": "markdown",
   "metadata": {},
   "source": [
    "### Por último sacamos un rating basado en la cantidad de veces que un artista fué escuchado de manera proporcional"
   ]
  },
  {
   "cell_type": "code",
   "execution_count": null,
   "metadata": {},
   "outputs": [],
   "source": [
    "pd.options.mode.chained_assignment = None"
   ]
  },
  {
   "cell_type": "code",
   "execution_count": 222,
   "metadata": {
    "scrolled": true
   },
   "outputs": [],
   "source": [
    "test = sorted_user_artists_count.head(100)"
   ]
  },
  {
   "cell_type": "code",
   "execution_count": 223,
   "metadata": {},
   "outputs": [],
   "source": [
    "def calculateRating (row):\n",
    "    userid = row['userid']\n",
    "    userdf = sorted_user_artists_count[sorted_user_artists_count['userid'] == userid]\n",
    "    countmax = userdf['count'].max()\n",
    "    rating = 10 * row['count']/countmax\n",
    "    return rating"
   ]
  },
  {
   "cell_type": "markdown",
   "metadata": {},
   "source": [
    "### Reemplazar \"test\" con sorted_user_artists_count"
   ]
  },
  {
   "cell_type": "code",
   "execution_count": 224,
   "metadata": {
    "scrolled": true
   },
   "outputs": [
    {
     "data": {
      "text/html": [
       "<div>\n",
       "<style scoped>\n",
       "    .dataframe tbody tr th:only-of-type {\n",
       "        vertical-align: middle;\n",
       "    }\n",
       "\n",
       "    .dataframe tbody tr th {\n",
       "        vertical-align: top;\n",
       "    }\n",
       "\n",
       "    .dataframe thead th {\n",
       "        text-align: right;\n",
       "    }\n",
       "</style>\n",
       "<table border=\"1\" class=\"dataframe\">\n",
       "  <thead>\n",
       "    <tr style=\"text-align: right;\">\n",
       "      <th></th>\n",
       "      <th>userid</th>\n",
       "      <th>artist-name</th>\n",
       "      <th>count</th>\n",
       "      <th>rating</th>\n",
       "    </tr>\n",
       "  </thead>\n",
       "  <tbody>\n",
       "    <tr>\n",
       "      <th>894480</th>\n",
       "      <td>user_001000</td>\n",
       "      <td>Wilco</td>\n",
       "      <td>455</td>\n",
       "      <td>10.000000</td>\n",
       "    </tr>\n",
       "    <tr>\n",
       "      <th>894278</th>\n",
       "      <td>user_001000</td>\n",
       "      <td>Radiohead</td>\n",
       "      <td>444</td>\n",
       "      <td>9.758242</td>\n",
       "    </tr>\n",
       "    <tr>\n",
       "      <th>893852</th>\n",
       "      <td>user_001000</td>\n",
       "      <td>Animal Collective</td>\n",
       "      <td>432</td>\n",
       "      <td>9.494505</td>\n",
       "    </tr>\n",
       "    <tr>\n",
       "      <th>894021</th>\n",
       "      <td>user_001000</td>\n",
       "      <td>Girl Talk</td>\n",
       "      <td>417</td>\n",
       "      <td>9.164835</td>\n",
       "    </tr>\n",
       "    <tr>\n",
       "      <th>893834</th>\n",
       "      <td>user_001000</td>\n",
       "      <td>Aesop Rock</td>\n",
       "      <td>383</td>\n",
       "      <td>8.417582</td>\n",
       "    </tr>\n",
       "    <tr>\n",
       "      <th>...</th>\n",
       "      <td>...</td>\n",
       "      <td>...</td>\n",
       "      <td>...</td>\n",
       "      <td>...</td>\n",
       "    </tr>\n",
       "    <tr>\n",
       "      <th>893901</th>\n",
       "      <td>user_001000</td>\n",
       "      <td>Broken Social Scene</td>\n",
       "      <td>59</td>\n",
       "      <td>1.296703</td>\n",
       "    </tr>\n",
       "    <tr>\n",
       "      <th>894369</th>\n",
       "      <td>user_001000</td>\n",
       "      <td>Tapes 'N Tapes</td>\n",
       "      <td>58</td>\n",
       "      <td>1.274725</td>\n",
       "    </tr>\n",
       "    <tr>\n",
       "      <th>894386</th>\n",
       "      <td>user_001000</td>\n",
       "      <td>The Blow</td>\n",
       "      <td>58</td>\n",
       "      <td>1.274725</td>\n",
       "    </tr>\n",
       "    <tr>\n",
       "      <th>894453</th>\n",
       "      <td>user_001000</td>\n",
       "      <td>Tv On The Radio</td>\n",
       "      <td>58</td>\n",
       "      <td>1.274725</td>\n",
       "    </tr>\n",
       "    <tr>\n",
       "      <th>893960</th>\n",
       "      <td>user_001000</td>\n",
       "      <td>Desafinado</td>\n",
       "      <td>57</td>\n",
       "      <td>1.252747</td>\n",
       "    </tr>\n",
       "  </tbody>\n",
       "</table>\n",
       "<p>100 rows × 4 columns</p>\n",
       "</div>"
      ],
      "text/plain": [
       "             userid          artist-name  count     rating\n",
       "894480  user_001000                Wilco    455  10.000000\n",
       "894278  user_001000            Radiohead    444   9.758242\n",
       "893852  user_001000    Animal Collective    432   9.494505\n",
       "894021  user_001000            Girl Talk    417   9.164835\n",
       "893834  user_001000           Aesop Rock    383   8.417582\n",
       "...             ...                  ...    ...        ...\n",
       "893901  user_001000  Broken Social Scene     59   1.296703\n",
       "894369  user_001000       Tapes 'N Tapes     58   1.274725\n",
       "894386  user_001000             The Blow     58   1.274725\n",
       "894453  user_001000      Tv On The Radio     58   1.274725\n",
       "893960  user_001000           Desafinado     57   1.252747\n",
       "\n",
       "[100 rows x 4 columns]"
      ]
     },
     "execution_count": 224,
     "metadata": {},
     "output_type": "execute_result"
    }
   ],
   "source": [
    "test['rating'] = test.apply(lambda x: calculateRating(x), axis=1)\n",
    "test"
   ]
  }
 ],
 "metadata": {
  "kernelspec": {
   "display_name": "Python 3",
   "language": "python",
   "name": "python3"
  },
  "language_info": {
   "codemirror_mode": {
    "name": "ipython",
    "version": 3
   },
   "file_extension": ".py",
   "mimetype": "text/x-python",
   "name": "python",
   "nbconvert_exporter": "python",
   "pygments_lexer": "ipython3",
   "version": "3.8.1"
  }
 },
 "nbformat": 4,
 "nbformat_minor": 4
}
