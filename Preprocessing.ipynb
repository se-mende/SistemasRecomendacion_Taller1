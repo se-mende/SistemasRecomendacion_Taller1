{
 "cells": [
  {
   "cell_type": "code",
   "execution_count": 1,
   "metadata": {},
   "outputs": [],
   "source": [
    "import os\n",
    "import numpy as np\n",
    "import pandas as pd\n",
    "import matplotlib.pyplot as plt"
   ]
  },
  {
   "cell_type": "code",
   "execution_count": 2,
   "metadata": {},
   "outputs": [
    {
     "name": "stdout",
     "output_type": "stream",
     "text": [
      "Los archivos han sido cargados\n"
     ]
    }
   ],
   "source": [
    "if not (os.path.exists('./data/userid-profile.tsv') and os.path.exists('./data/userid-timestamp-artid-artname-traid-traname.tsv')):\n",
    "  raise ValueError('Los archivos userid-profile y userid-timestamp-artid-artname-traid-traname no fueron encontrados en el path')\n",
    "else:\n",
    "  print(\"Los archivos han sido cargados\")"
   ]
  },
  {
   "cell_type": "code",
   "execution_count": 3,
   "metadata": {},
   "outputs": [],
   "source": [
    "users=pd.read_csv('./data/userid-profile.tsv', sep = '\\t', header=0 )"
   ]
  },
  {
   "cell_type": "code",
   "execution_count": 4,
   "metadata": {},
   "outputs": [],
   "source": [
    "activity=pd.read_csv('./data/userid-timestamp-artid-artname-traid-traname.tsv', sep = '\\t', names = [ 'userid', 'timestamp', 'musicbrainz-artist-id', 'artist-name', 'musicbrainz-track-id', 'track-name' ])"
   ]
  },
  {
   "cell_type": "code",
   "execution_count": 5,
   "metadata": {},
   "outputs": [
    {
     "data": {
      "text/plain": [
       "userid                   19098862\n",
       "timestamp                19098862\n",
       "musicbrainz-artist-id    18498009\n",
       "artist-name              19098862\n",
       "musicbrainz-track-id     16936136\n",
       "track-name               19098850\n",
       "dtype: int64"
      ]
     },
     "execution_count": 5,
     "metadata": {},
     "output_type": "execute_result"
    }
   ],
   "source": [
    "activity.count()"
   ]
  },
  {
   "cell_type": "markdown",
   "metadata": {},
   "source": [
    "### Luego contamos las veces en las que usuarios escucharon un artista para encontrar el percentil 75 y descartar"
   ]
  },
  {
   "cell_type": "code",
   "execution_count": 6,
   "metadata": {},
   "outputs": [],
   "source": [
    "user_artists_count = activity.groupby(['artist-name']).count()"
   ]
  },
  {
   "cell_type": "code",
   "execution_count": 7,
   "metadata": {
    "scrolled": true
   },
   "outputs": [],
   "source": [
    "sorted_user_artists_count = user_artists_count['track-name'].reset_index(name='count')"
   ]
  },
  {
   "cell_type": "code",
   "execution_count": 8,
   "metadata": {},
   "outputs": [
    {
     "data": {
      "text/plain": [
       "count    173923.000000\n",
       "mean        109.812101\n",
       "std        1116.894455\n",
       "min           0.000000\n",
       "25%           1.000000\n",
       "50%           4.000000\n",
       "75%          18.000000\n",
       "max      115099.000000\n",
       "Name: count, dtype: float64"
      ]
     },
     "execution_count": 8,
     "metadata": {},
     "output_type": "execute_result"
    }
   ],
   "source": [
    "sorted_user_artists_count['count'].describe()"
   ]
  },
  {
   "cell_type": "markdown",
   "metadata": {},
   "source": [
    "### Ahora eliminamos aquellos artistas que tienen menos de 18 actividades (percentil 75)"
   ]
  },
  {
   "cell_type": "code",
   "execution_count": 9,
   "metadata": {},
   "outputs": [],
   "source": [
    "noisyArtists = sorted_user_artists_count[sorted_user_artists_count['count'] <= 18]\n",
    "noisyArtists = noisyArtists.loc[:,['artist-name']]"
   ]
  },
  {
   "cell_type": "code",
   "execution_count": 10,
   "metadata": {},
   "outputs": [],
   "source": [
    "noisy_df = activity.merge(noisyArtists, how=\"inner\", on=\"artist-name\")"
   ]
  },
  {
   "cell_type": "code",
   "execution_count": 12,
   "metadata": {},
   "outputs": [
    {
     "data": {
      "text/html": [
       "<div>\n",
       "<style scoped>\n",
       "    .dataframe tbody tr th:only-of-type {\n",
       "        vertical-align: middle;\n",
       "    }\n",
       "\n",
       "    .dataframe tbody tr th {\n",
       "        vertical-align: top;\n",
       "    }\n",
       "\n",
       "    .dataframe thead th {\n",
       "        text-align: right;\n",
       "    }\n",
       "</style>\n",
       "<table border=\"1\" class=\"dataframe\">\n",
       "  <thead>\n",
       "    <tr style=\"text-align: right;\">\n",
       "      <th></th>\n",
       "      <th>userid</th>\n",
       "      <th>timestamp</th>\n",
       "      <th>musicbrainz-artist-id</th>\n",
       "      <th>artist-name</th>\n",
       "      <th>musicbrainz-track-id</th>\n",
       "      <th>track-name</th>\n",
       "    </tr>\n",
       "  </thead>\n",
       "  <tbody>\n",
       "    <tr>\n",
       "      <th>0</th>\n",
       "      <td>user_000001</td>\n",
       "      <td>2009-05-03T14:56:25Z</td>\n",
       "      <td>309e2dfc-678e-4d09-a7a4-8eab9525b669</td>\n",
       "      <td>Dj Linus</td>\n",
       "      <td>4277434f-e3c2-41ae-9ce3-23fd157f9347</td>\n",
       "      <td>Good Morning Love Coffee Is Ready</td>\n",
       "    </tr>\n",
       "    <tr>\n",
       "      <th>1</th>\n",
       "      <td>user_000001</td>\n",
       "      <td>2009-04-28T13:35:48Z</td>\n",
       "      <td>309e2dfc-678e-4d09-a7a4-8eab9525b669</td>\n",
       "      <td>Dj Linus</td>\n",
       "      <td>4277434f-e3c2-41ae-9ce3-23fd157f9347</td>\n",
       "      <td>Good Morning Love Coffee Is Ready</td>\n",
       "    </tr>\n",
       "    <tr>\n",
       "      <th>2</th>\n",
       "      <td>user_000001</td>\n",
       "      <td>2009-04-26T18:54:12Z</td>\n",
       "      <td>309e2dfc-678e-4d09-a7a4-8eab9525b669</td>\n",
       "      <td>Dj Linus</td>\n",
       "      <td>4277434f-e3c2-41ae-9ce3-23fd157f9347</td>\n",
       "      <td>Good Morning Love Coffee Is Ready</td>\n",
       "    </tr>\n",
       "    <tr>\n",
       "      <th>3</th>\n",
       "      <td>user_000001</td>\n",
       "      <td>2009-04-26T17:24:13Z</td>\n",
       "      <td>309e2dfc-678e-4d09-a7a4-8eab9525b669</td>\n",
       "      <td>Dj Linus</td>\n",
       "      <td>4277434f-e3c2-41ae-9ce3-23fd157f9347</td>\n",
       "      <td>Good Morning Love Coffee Is Ready</td>\n",
       "    </tr>\n",
       "    <tr>\n",
       "      <th>4</th>\n",
       "      <td>user_000001</td>\n",
       "      <td>2009-04-11T16:24:36Z</td>\n",
       "      <td>309e2dfc-678e-4d09-a7a4-8eab9525b669</td>\n",
       "      <td>Dj Linus</td>\n",
       "      <td>4277434f-e3c2-41ae-9ce3-23fd157f9347</td>\n",
       "      <td>Good Morning Love Coffee Is Ready</td>\n",
       "    </tr>\n",
       "    <tr>\n",
       "      <th>...</th>\n",
       "      <td>...</td>\n",
       "      <td>...</td>\n",
       "      <td>...</td>\n",
       "      <td>...</td>\n",
       "      <td>...</td>\n",
       "      <td>...</td>\n",
       "    </tr>\n",
       "    <tr>\n",
       "      <th>553581</th>\n",
       "      <td>user_001000</td>\n",
       "      <td>2008-03-06T06:18:23Z</td>\n",
       "      <td>NaN</td>\n",
       "      <td>Simon Coltman</td>\n",
       "      <td>NaN</td>\n",
       "      <td>Heroes With Plimsoles</td>\n",
       "    </tr>\n",
       "    <tr>\n",
       "      <th>553582</th>\n",
       "      <td>user_001000</td>\n",
       "      <td>2008-03-06T06:14:54Z</td>\n",
       "      <td>NaN</td>\n",
       "      <td>Simon Coltman</td>\n",
       "      <td>NaN</td>\n",
       "      <td>Foe Future</td>\n",
       "    </tr>\n",
       "    <tr>\n",
       "      <th>553583</th>\n",
       "      <td>user_001000</td>\n",
       "      <td>2008-03-06T06:12:20Z</td>\n",
       "      <td>NaN</td>\n",
       "      <td>Simon Coltman</td>\n",
       "      <td>NaN</td>\n",
       "      <td>Captain Perilous</td>\n",
       "    </tr>\n",
       "    <tr>\n",
       "      <th>553584</th>\n",
       "      <td>user_001000</td>\n",
       "      <td>2008-03-12T05:11:57Z</td>\n",
       "      <td>8c887739-8b37-4d13-a5e4-731c0abaffc3</td>\n",
       "      <td>Burlap To Cashmere</td>\n",
       "      <td>ca1e461a-74cf-4fb0-9826-1c93f10aad55</td>\n",
       "      <td>Mansions</td>\n",
       "    </tr>\n",
       "    <tr>\n",
       "      <th>553585</th>\n",
       "      <td>user_001000</td>\n",
       "      <td>2008-03-05T03:50:46Z</td>\n",
       "      <td>NaN</td>\n",
       "      <td>Starboard Green</td>\n",
       "      <td>NaN</td>\n",
       "      <td>Farewell</td>\n",
       "    </tr>\n",
       "  </tbody>\n",
       "</table>\n",
       "<p>553586 rows × 6 columns</p>\n",
       "</div>"
      ],
      "text/plain": [
       "             userid             timestamp  \\\n",
       "0       user_000001  2009-05-03T14:56:25Z   \n",
       "1       user_000001  2009-04-28T13:35:48Z   \n",
       "2       user_000001  2009-04-26T18:54:12Z   \n",
       "3       user_000001  2009-04-26T17:24:13Z   \n",
       "4       user_000001  2009-04-11T16:24:36Z   \n",
       "...             ...                   ...   \n",
       "553581  user_001000  2008-03-06T06:18:23Z   \n",
       "553582  user_001000  2008-03-06T06:14:54Z   \n",
       "553583  user_001000  2008-03-06T06:12:20Z   \n",
       "553584  user_001000  2008-03-12T05:11:57Z   \n",
       "553585  user_001000  2008-03-05T03:50:46Z   \n",
       "\n",
       "                       musicbrainz-artist-id         artist-name  \\\n",
       "0       309e2dfc-678e-4d09-a7a4-8eab9525b669            Dj Linus   \n",
       "1       309e2dfc-678e-4d09-a7a4-8eab9525b669            Dj Linus   \n",
       "2       309e2dfc-678e-4d09-a7a4-8eab9525b669            Dj Linus   \n",
       "3       309e2dfc-678e-4d09-a7a4-8eab9525b669            Dj Linus   \n",
       "4       309e2dfc-678e-4d09-a7a4-8eab9525b669            Dj Linus   \n",
       "...                                      ...                 ...   \n",
       "553581                                   NaN       Simon Coltman   \n",
       "553582                                   NaN       Simon Coltman   \n",
       "553583                                   NaN       Simon Coltman   \n",
       "553584  8c887739-8b37-4d13-a5e4-731c0abaffc3  Burlap To Cashmere   \n",
       "553585                                   NaN     Starboard Green   \n",
       "\n",
       "                        musicbrainz-track-id  \\\n",
       "0       4277434f-e3c2-41ae-9ce3-23fd157f9347   \n",
       "1       4277434f-e3c2-41ae-9ce3-23fd157f9347   \n",
       "2       4277434f-e3c2-41ae-9ce3-23fd157f9347   \n",
       "3       4277434f-e3c2-41ae-9ce3-23fd157f9347   \n",
       "4       4277434f-e3c2-41ae-9ce3-23fd157f9347   \n",
       "...                                      ...   \n",
       "553581                                   NaN   \n",
       "553582                                   NaN   \n",
       "553583                                   NaN   \n",
       "553584  ca1e461a-74cf-4fb0-9826-1c93f10aad55   \n",
       "553585                                   NaN   \n",
       "\n",
       "                               track-name  \n",
       "0       Good Morning Love Coffee Is Ready  \n",
       "1       Good Morning Love Coffee Is Ready  \n",
       "2       Good Morning Love Coffee Is Ready  \n",
       "3       Good Morning Love Coffee Is Ready  \n",
       "4       Good Morning Love Coffee Is Ready  \n",
       "...                                   ...  \n",
       "553581              Heroes With Plimsoles  \n",
       "553582                         Foe Future  \n",
       "553583                   Captain Perilous  \n",
       "553584                           Mansions  \n",
       "553585                           Farewell  \n",
       "\n",
       "[553586 rows x 6 columns]"
      ]
     },
     "execution_count": 12,
     "metadata": {},
     "output_type": "execute_result"
    }
   ],
   "source": [
    "noisy_df"
   ]
  },
  {
   "cell_type": "code",
   "execution_count": 13,
   "metadata": {},
   "outputs": [
    {
     "data": {
      "text/plain": [
       "userid                   18545274\n",
       "timestamp                18545274\n",
       "musicbrainz-artist-id    18164966\n",
       "artist-name              18545274\n",
       "musicbrainz-track-id     16719585\n",
       "track-name               18545264\n",
       "dtype: int64"
      ]
     },
     "execution_count": 13,
     "metadata": {},
     "output_type": "execute_result"
    }
   ],
   "source": [
    "reduced_activity = pd.concat([activity, noisy_df])\n",
    "reduced_activity = reduced_activity.drop_duplicates(keep=False)\n",
    "reduced_activity.count()"
   ]
  },
  {
   "cell_type": "markdown",
   "metadata": {},
   "source": [
    "### Calculamos la cantidad de veces que un usuario ha escuchado un artista por usuario"
   ]
  },
  {
   "cell_type": "code",
   "execution_count": 14,
   "metadata": {},
   "outputs": [],
   "source": [
    "user_artists_count = activity.groupby(['userid', 'artist-name']).count()"
   ]
  },
  {
   "cell_type": "code",
   "execution_count": 15,
   "metadata": {},
   "outputs": [
    {
     "data": {
      "text/html": [
       "<div>\n",
       "<style scoped>\n",
       "    .dataframe tbody tr th:only-of-type {\n",
       "        vertical-align: middle;\n",
       "    }\n",
       "\n",
       "    .dataframe tbody tr th {\n",
       "        vertical-align: top;\n",
       "    }\n",
       "\n",
       "    .dataframe thead th {\n",
       "        text-align: right;\n",
       "    }\n",
       "</style>\n",
       "<table border=\"1\" class=\"dataframe\">\n",
       "  <thead>\n",
       "    <tr style=\"text-align: right;\">\n",
       "      <th></th>\n",
       "      <th>userid</th>\n",
       "      <th>artist-name</th>\n",
       "      <th>count</th>\n",
       "    </tr>\n",
       "  </thead>\n",
       "  <tbody>\n",
       "    <tr>\n",
       "      <th>897402</th>\n",
       "      <td>user_001000</td>\n",
       "      <td>Wilco</td>\n",
       "      <td>455</td>\n",
       "    </tr>\n",
       "    <tr>\n",
       "      <th>897200</th>\n",
       "      <td>user_001000</td>\n",
       "      <td>Radiohead</td>\n",
       "      <td>444</td>\n",
       "    </tr>\n",
       "    <tr>\n",
       "      <th>896774</th>\n",
       "      <td>user_001000</td>\n",
       "      <td>Animal Collective</td>\n",
       "      <td>432</td>\n",
       "    </tr>\n",
       "    <tr>\n",
       "      <th>896943</th>\n",
       "      <td>user_001000</td>\n",
       "      <td>Girl Talk</td>\n",
       "      <td>417</td>\n",
       "    </tr>\n",
       "    <tr>\n",
       "      <th>896756</th>\n",
       "      <td>user_001000</td>\n",
       "      <td>Aesop Rock</td>\n",
       "      <td>383</td>\n",
       "    </tr>\n",
       "    <tr>\n",
       "      <th>...</th>\n",
       "      <td>...</td>\n",
       "      <td>...</td>\n",
       "      <td>...</td>\n",
       "    </tr>\n",
       "    <tr>\n",
       "      <th>648</th>\n",
       "      <td>user_000001</td>\n",
       "      <td>曽我部恵一</td>\n",
       "      <td>1</td>\n",
       "    </tr>\n",
       "    <tr>\n",
       "      <th>649</th>\n",
       "      <td>user_000001</td>\n",
       "      <td>畠山美由紀</td>\n",
       "      <td>1</td>\n",
       "    </tr>\n",
       "    <tr>\n",
       "      <th>652</th>\n",
       "      <td>user_000001</td>\n",
       "      <td>細野晴臣</td>\n",
       "      <td>1</td>\n",
       "    </tr>\n",
       "    <tr>\n",
       "      <th>654</th>\n",
       "      <td>user_000001</td>\n",
       "      <td>青柳拓次</td>\n",
       "      <td>1</td>\n",
       "    </tr>\n",
       "    <tr>\n",
       "      <th>655</th>\n",
       "      <td>user_000001</td>\n",
       "      <td>首里フジコ</td>\n",
       "      <td>1</td>\n",
       "    </tr>\n",
       "  </tbody>\n",
       "</table>\n",
       "<p>897421 rows × 3 columns</p>\n",
       "</div>"
      ],
      "text/plain": [
       "             userid        artist-name  count\n",
       "897402  user_001000              Wilco    455\n",
       "897200  user_001000          Radiohead    444\n",
       "896774  user_001000  Animal Collective    432\n",
       "896943  user_001000          Girl Talk    417\n",
       "896756  user_001000         Aesop Rock    383\n",
       "...             ...                ...    ...\n",
       "648     user_000001              曽我部恵一      1\n",
       "649     user_000001              畠山美由紀      1\n",
       "652     user_000001               細野晴臣      1\n",
       "654     user_000001               青柳拓次      1\n",
       "655     user_000001              首里フジコ      1\n",
       "\n",
       "[897421 rows x 3 columns]"
      ]
     },
     "execution_count": 15,
     "metadata": {},
     "output_type": "execute_result"
    }
   ],
   "source": [
    "sorted_user_artists_count = user_artists_count['track-name'].reset_index(name='count').sort_values(['userid', 'count'], ascending=False)\n",
    "sorted_user_artists_count"
   ]
  },
  {
   "cell_type": "markdown",
   "metadata": {},
   "source": [
    "### Por último sacamos un rating basado en la cantidad de veces que un artista fué escuchado de manera proporcional"
   ]
  },
  {
   "cell_type": "code",
   "execution_count": 16,
   "metadata": {},
   "outputs": [
    {
     "data": {
      "text/html": [
       "<div>\n",
       "<style scoped>\n",
       "    .dataframe tbody tr th:only-of-type {\n",
       "        vertical-align: middle;\n",
       "    }\n",
       "\n",
       "    .dataframe tbody tr th {\n",
       "        vertical-align: top;\n",
       "    }\n",
       "\n",
       "    .dataframe thead th {\n",
       "        text-align: right;\n",
       "    }\n",
       "</style>\n",
       "<table border=\"1\" class=\"dataframe\">\n",
       "  <thead>\n",
       "    <tr style=\"text-align: right;\">\n",
       "      <th></th>\n",
       "      <th>userid</th>\n",
       "      <th>max</th>\n",
       "    </tr>\n",
       "  </thead>\n",
       "  <tbody>\n",
       "    <tr>\n",
       "      <th>0</th>\n",
       "      <td>user_001000</td>\n",
       "      <td>455</td>\n",
       "    </tr>\n",
       "    <tr>\n",
       "      <th>1</th>\n",
       "      <td>user_000999</td>\n",
       "      <td>3299</td>\n",
       "    </tr>\n",
       "    <tr>\n",
       "      <th>2</th>\n",
       "      <td>user_000998</td>\n",
       "      <td>2535</td>\n",
       "    </tr>\n",
       "    <tr>\n",
       "      <th>3</th>\n",
       "      <td>user_000997</td>\n",
       "      <td>5693</td>\n",
       "    </tr>\n",
       "    <tr>\n",
       "      <th>4</th>\n",
       "      <td>user_000996</td>\n",
       "      <td>928</td>\n",
       "    </tr>\n",
       "    <tr>\n",
       "      <th>...</th>\n",
       "      <td>...</td>\n",
       "      <td>...</td>\n",
       "    </tr>\n",
       "    <tr>\n",
       "      <th>987</th>\n",
       "      <td>user_000005</td>\n",
       "      <td>1905</td>\n",
       "    </tr>\n",
       "    <tr>\n",
       "      <th>988</th>\n",
       "      <td>user_000004</td>\n",
       "      <td>542</td>\n",
       "    </tr>\n",
       "    <tr>\n",
       "      <th>989</th>\n",
       "      <td>user_000003</td>\n",
       "      <td>895</td>\n",
       "    </tr>\n",
       "    <tr>\n",
       "      <th>990</th>\n",
       "      <td>user_000002</td>\n",
       "      <td>2411</td>\n",
       "    </tr>\n",
       "    <tr>\n",
       "      <th>991</th>\n",
       "      <td>user_000001</td>\n",
       "      <td>855</td>\n",
       "    </tr>\n",
       "  </tbody>\n",
       "</table>\n",
       "<p>992 rows × 2 columns</p>\n",
       "</div>"
      ],
      "text/plain": [
       "          userid   max\n",
       "0    user_001000   455\n",
       "1    user_000999  3299\n",
       "2    user_000998  2535\n",
       "3    user_000997  5693\n",
       "4    user_000996   928\n",
       "..           ...   ...\n",
       "987  user_000005  1905\n",
       "988  user_000004   542\n",
       "989  user_000003   895\n",
       "990  user_000002  2411\n",
       "991  user_000001   855\n",
       "\n",
       "[992 rows x 2 columns]"
      ]
     },
     "execution_count": 16,
     "metadata": {},
     "output_type": "execute_result"
    }
   ],
   "source": [
    "# obtenemos un dataframe con el maximo de reproducciones por cada usuario\n",
    "user_max = pd.DataFrame(sorted_user_artists_count.groupby(['userid'], sort=False)['count'].max()).reset_index()\n",
    "user_max.columns = ['userid', 'max']\n",
    "user_max"
   ]
  },
  {
   "cell_type": "code",
   "execution_count": 17,
   "metadata": {},
   "outputs": [],
   "source": [
    "# hacemos merge con la tabla de usuarios y artistas\n",
    "sorted_user_artists_count_max = sorted_user_artists_count.merge(user_max, how='left', left_on='userid', right_on='userid')"
   ]
  },
  {
   "cell_type": "code",
   "execution_count": 18,
   "metadata": {},
   "outputs": [
    {
     "data": {
      "text/html": [
       "<div>\n",
       "<style scoped>\n",
       "    .dataframe tbody tr th:only-of-type {\n",
       "        vertical-align: middle;\n",
       "    }\n",
       "\n",
       "    .dataframe tbody tr th {\n",
       "        vertical-align: top;\n",
       "    }\n",
       "\n",
       "    .dataframe thead th {\n",
       "        text-align: right;\n",
       "    }\n",
       "</style>\n",
       "<table border=\"1\" class=\"dataframe\">\n",
       "  <thead>\n",
       "    <tr style=\"text-align: right;\">\n",
       "      <th></th>\n",
       "      <th>userid</th>\n",
       "      <th>artist-name</th>\n",
       "      <th>count</th>\n",
       "      <th>max</th>\n",
       "    </tr>\n",
       "  </thead>\n",
       "  <tbody>\n",
       "    <tr>\n",
       "      <th>0</th>\n",
       "      <td>user_001000</td>\n",
       "      <td>Wilco</td>\n",
       "      <td>455</td>\n",
       "      <td>455</td>\n",
       "    </tr>\n",
       "    <tr>\n",
       "      <th>1</th>\n",
       "      <td>user_001000</td>\n",
       "      <td>Radiohead</td>\n",
       "      <td>444</td>\n",
       "      <td>455</td>\n",
       "    </tr>\n",
       "    <tr>\n",
       "      <th>2</th>\n",
       "      <td>user_001000</td>\n",
       "      <td>Animal Collective</td>\n",
       "      <td>432</td>\n",
       "      <td>455</td>\n",
       "    </tr>\n",
       "    <tr>\n",
       "      <th>3</th>\n",
       "      <td>user_001000</td>\n",
       "      <td>Girl Talk</td>\n",
       "      <td>417</td>\n",
       "      <td>455</td>\n",
       "    </tr>\n",
       "    <tr>\n",
       "      <th>4</th>\n",
       "      <td>user_001000</td>\n",
       "      <td>Aesop Rock</td>\n",
       "      <td>383</td>\n",
       "      <td>455</td>\n",
       "    </tr>\n",
       "    <tr>\n",
       "      <th>...</th>\n",
       "      <td>...</td>\n",
       "      <td>...</td>\n",
       "      <td>...</td>\n",
       "      <td>...</td>\n",
       "    </tr>\n",
       "    <tr>\n",
       "      <th>897416</th>\n",
       "      <td>user_000001</td>\n",
       "      <td>曽我部恵一</td>\n",
       "      <td>1</td>\n",
       "      <td>855</td>\n",
       "    </tr>\n",
       "    <tr>\n",
       "      <th>897417</th>\n",
       "      <td>user_000001</td>\n",
       "      <td>畠山美由紀</td>\n",
       "      <td>1</td>\n",
       "      <td>855</td>\n",
       "    </tr>\n",
       "    <tr>\n",
       "      <th>897418</th>\n",
       "      <td>user_000001</td>\n",
       "      <td>細野晴臣</td>\n",
       "      <td>1</td>\n",
       "      <td>855</td>\n",
       "    </tr>\n",
       "    <tr>\n",
       "      <th>897419</th>\n",
       "      <td>user_000001</td>\n",
       "      <td>青柳拓次</td>\n",
       "      <td>1</td>\n",
       "      <td>855</td>\n",
       "    </tr>\n",
       "    <tr>\n",
       "      <th>897420</th>\n",
       "      <td>user_000001</td>\n",
       "      <td>首里フジコ</td>\n",
       "      <td>1</td>\n",
       "      <td>855</td>\n",
       "    </tr>\n",
       "  </tbody>\n",
       "</table>\n",
       "<p>897421 rows × 4 columns</p>\n",
       "</div>"
      ],
      "text/plain": [
       "             userid        artist-name  count  max\n",
       "0       user_001000              Wilco    455  455\n",
       "1       user_001000          Radiohead    444  455\n",
       "2       user_001000  Animal Collective    432  455\n",
       "3       user_001000          Girl Talk    417  455\n",
       "4       user_001000         Aesop Rock    383  455\n",
       "...             ...                ...    ...  ...\n",
       "897416  user_000001              曽我部恵一      1  855\n",
       "897417  user_000001              畠山美由紀      1  855\n",
       "897418  user_000001               細野晴臣      1  855\n",
       "897419  user_000001               青柳拓次      1  855\n",
       "897420  user_000001              首里フジコ      1  855\n",
       "\n",
       "[897421 rows x 4 columns]"
      ]
     },
     "execution_count": 18,
     "metadata": {},
     "output_type": "execute_result"
    }
   ],
   "source": [
    "sorted_user_artists_count_max"
   ]
  },
  {
   "cell_type": "code",
   "execution_count": 19,
   "metadata": {
    "scrolled": false
   },
   "outputs": [],
   "source": [
    "# creamos una nueva columna en el dataframe con el ranking que va de 0 a 5, donde 5 es el artista mas oido y 0 el menos oido\n",
    "sorted_user_artists_count_max['rating'] = np.around((sorted_user_artists_count_max['count']/sorted_user_artists_count_max['max']) * 5, decimals=1)\n"
   ]
  },
  {
   "cell_type": "code",
   "execution_count": 20,
   "metadata": {
    "scrolled": true
   },
   "outputs": [
    {
     "data": {
      "text/html": [
       "<div>\n",
       "<style scoped>\n",
       "    .dataframe tbody tr th:only-of-type {\n",
       "        vertical-align: middle;\n",
       "    }\n",
       "\n",
       "    .dataframe tbody tr th {\n",
       "        vertical-align: top;\n",
       "    }\n",
       "\n",
       "    .dataframe thead th {\n",
       "        text-align: right;\n",
       "    }\n",
       "</style>\n",
       "<table border=\"1\" class=\"dataframe\">\n",
       "  <thead>\n",
       "    <tr style=\"text-align: right;\">\n",
       "      <th></th>\n",
       "      <th>userid</th>\n",
       "      <th>artist-name</th>\n",
       "      <th>count</th>\n",
       "      <th>max</th>\n",
       "      <th>rating</th>\n",
       "    </tr>\n",
       "  </thead>\n",
       "  <tbody>\n",
       "    <tr>\n",
       "      <th>0</th>\n",
       "      <td>user_001000</td>\n",
       "      <td>Wilco</td>\n",
       "      <td>455</td>\n",
       "      <td>455</td>\n",
       "      <td>5.0</td>\n",
       "    </tr>\n",
       "    <tr>\n",
       "      <th>1</th>\n",
       "      <td>user_001000</td>\n",
       "      <td>Radiohead</td>\n",
       "      <td>444</td>\n",
       "      <td>455</td>\n",
       "      <td>4.9</td>\n",
       "    </tr>\n",
       "    <tr>\n",
       "      <th>2</th>\n",
       "      <td>user_001000</td>\n",
       "      <td>Animal Collective</td>\n",
       "      <td>432</td>\n",
       "      <td>455</td>\n",
       "      <td>4.7</td>\n",
       "    </tr>\n",
       "    <tr>\n",
       "      <th>3</th>\n",
       "      <td>user_001000</td>\n",
       "      <td>Girl Talk</td>\n",
       "      <td>417</td>\n",
       "      <td>455</td>\n",
       "      <td>4.6</td>\n",
       "    </tr>\n",
       "    <tr>\n",
       "      <th>4</th>\n",
       "      <td>user_001000</td>\n",
       "      <td>Aesop Rock</td>\n",
       "      <td>383</td>\n",
       "      <td>455</td>\n",
       "      <td>4.2</td>\n",
       "    </tr>\n",
       "    <tr>\n",
       "      <th>...</th>\n",
       "      <td>...</td>\n",
       "      <td>...</td>\n",
       "      <td>...</td>\n",
       "      <td>...</td>\n",
       "      <td>...</td>\n",
       "    </tr>\n",
       "    <tr>\n",
       "      <th>897416</th>\n",
       "      <td>user_000001</td>\n",
       "      <td>曽我部恵一</td>\n",
       "      <td>1</td>\n",
       "      <td>855</td>\n",
       "      <td>0.0</td>\n",
       "    </tr>\n",
       "    <tr>\n",
       "      <th>897417</th>\n",
       "      <td>user_000001</td>\n",
       "      <td>畠山美由紀</td>\n",
       "      <td>1</td>\n",
       "      <td>855</td>\n",
       "      <td>0.0</td>\n",
       "    </tr>\n",
       "    <tr>\n",
       "      <th>897418</th>\n",
       "      <td>user_000001</td>\n",
       "      <td>細野晴臣</td>\n",
       "      <td>1</td>\n",
       "      <td>855</td>\n",
       "      <td>0.0</td>\n",
       "    </tr>\n",
       "    <tr>\n",
       "      <th>897419</th>\n",
       "      <td>user_000001</td>\n",
       "      <td>青柳拓次</td>\n",
       "      <td>1</td>\n",
       "      <td>855</td>\n",
       "      <td>0.0</td>\n",
       "    </tr>\n",
       "    <tr>\n",
       "      <th>897420</th>\n",
       "      <td>user_000001</td>\n",
       "      <td>首里フジコ</td>\n",
       "      <td>1</td>\n",
       "      <td>855</td>\n",
       "      <td>0.0</td>\n",
       "    </tr>\n",
       "  </tbody>\n",
       "</table>\n",
       "<p>897421 rows × 5 columns</p>\n",
       "</div>"
      ],
      "text/plain": [
       "             userid        artist-name  count  max  rating\n",
       "0       user_001000              Wilco    455  455     5.0\n",
       "1       user_001000          Radiohead    444  455     4.9\n",
       "2       user_001000  Animal Collective    432  455     4.7\n",
       "3       user_001000          Girl Talk    417  455     4.6\n",
       "4       user_001000         Aesop Rock    383  455     4.2\n",
       "...             ...                ...    ...  ...     ...\n",
       "897416  user_000001              曽我部恵一      1  855     0.0\n",
       "897417  user_000001              畠山美由紀      1  855     0.0\n",
       "897418  user_000001               細野晴臣      1  855     0.0\n",
       "897419  user_000001               青柳拓次      1  855     0.0\n",
       "897420  user_000001              首里フジコ      1  855     0.0\n",
       "\n",
       "[897421 rows x 5 columns]"
      ]
     },
     "execution_count": 20,
     "metadata": {},
     "output_type": "execute_result"
    }
   ],
   "source": [
    "sorted_user_artists_count_max"
   ]
  },
  {
   "cell_type": "code",
   "execution_count": 21,
   "metadata": {},
   "outputs": [
    {
     "data": {
      "text/plain": [
       "<matplotlib.axes._subplots.AxesSubplot at 0x11a2aa1f0>"
      ]
     },
     "execution_count": 21,
     "metadata": {},
     "output_type": "execute_result"
    },
    {
     "data": {
      "image/png": "[encoded data removed]",
      "text/plain": [
       "<Figure size 432x288 with 1 Axes>"
      ]
     },
     "metadata": {
      "needs_background": "light"
     },
     "output_type": "display_data"
    }
   ],
   "source": [
    "sorted_user_artists_count_max.rating.hist()"
   ]
  },
  {
   "cell_type": "code",
   "execution_count": 22,
   "metadata": {},
   "outputs": [
    {
     "data": {
      "text/plain": [
       "count    897421.000000\n",
       "mean          0.135784\n",
       "std           0.400291\n",
       "min           0.000000\n",
       "25%           0.000000\n",
       "50%           0.000000\n",
       "75%           0.100000\n",
       "max           5.000000\n",
       "Name: rating, dtype: float64"
      ]
     },
     "execution_count": 22,
     "metadata": {},
     "output_type": "execute_result"
    }
   ],
   "source": [
    "sorted_user_artists_count_max.rating.describe()"
   ]
  },
  {
   "cell_type": "code",
   "execution_count": 23,
   "metadata": {},
   "outputs": [
    {
     "data": {
      "text/plain": [
       "0.7"
      ]
     },
     "execution_count": 23,
     "metadata": {},
     "output_type": "execute_result"
    }
   ],
   "source": [
    "np.percentile(sorted_user_artists_count_max.rating, 95)"
   ]
  },
  {
   "cell_type": "code",
   "execution_count": 24,
   "metadata": {},
   "outputs": [
    {
     "data": {
      "text/html": [
       "<div>\n",
       "<style scoped>\n",
       "    .dataframe tbody tr th:only-of-type {\n",
       "        vertical-align: middle;\n",
       "    }\n",
       "\n",
       "    .dataframe tbody tr th {\n",
       "        vertical-align: top;\n",
       "    }\n",
       "\n",
       "    .dataframe thead th {\n",
       "        text-align: right;\n",
       "    }\n",
       "</style>\n",
       "<table border=\"1\" class=\"dataframe\">\n",
       "  <thead>\n",
       "    <tr style=\"text-align: right;\">\n",
       "      <th></th>\n",
       "      <th>userid</th>\n",
       "      <th>artist-name</th>\n",
       "      <th>rating</th>\n",
       "    </tr>\n",
       "  </thead>\n",
       "  <tbody>\n",
       "    <tr>\n",
       "      <th>0</th>\n",
       "      <td>user_001000</td>\n",
       "      <td>Wilco</td>\n",
       "      <td>5.0</td>\n",
       "    </tr>\n",
       "    <tr>\n",
       "      <th>1</th>\n",
       "      <td>user_001000</td>\n",
       "      <td>Radiohead</td>\n",
       "      <td>4.9</td>\n",
       "    </tr>\n",
       "    <tr>\n",
       "      <th>2</th>\n",
       "      <td>user_001000</td>\n",
       "      <td>Animal Collective</td>\n",
       "      <td>4.7</td>\n",
       "    </tr>\n",
       "    <tr>\n",
       "      <th>3</th>\n",
       "      <td>user_001000</td>\n",
       "      <td>Girl Talk</td>\n",
       "      <td>4.6</td>\n",
       "    </tr>\n",
       "    <tr>\n",
       "      <th>4</th>\n",
       "      <td>user_001000</td>\n",
       "      <td>Aesop Rock</td>\n",
       "      <td>4.2</td>\n",
       "    </tr>\n",
       "    <tr>\n",
       "      <th>...</th>\n",
       "      <td>...</td>\n",
       "      <td>...</td>\n",
       "      <td>...</td>\n",
       "    </tr>\n",
       "    <tr>\n",
       "      <th>896795</th>\n",
       "      <td>user_000001</td>\n",
       "      <td>Steve Reich</td>\n",
       "      <td>0.8</td>\n",
       "    </tr>\n",
       "    <tr>\n",
       "      <th>896796</th>\n",
       "      <td>user_000001</td>\n",
       "      <td>Enya</td>\n",
       "      <td>0.8</td>\n",
       "    </tr>\n",
       "    <tr>\n",
       "      <th>896797</th>\n",
       "      <td>user_000001</td>\n",
       "      <td>Nitin Sawhney</td>\n",
       "      <td>0.8</td>\n",
       "    </tr>\n",
       "    <tr>\n",
       "      <th>896798</th>\n",
       "      <td>user_000001</td>\n",
       "      <td>Reel People</td>\n",
       "      <td>0.8</td>\n",
       "    </tr>\n",
       "    <tr>\n",
       "      <th>896799</th>\n",
       "      <td>user_000001</td>\n",
       "      <td>Richie Hawtin</td>\n",
       "      <td>0.8</td>\n",
       "    </tr>\n",
       "  </tbody>\n",
       "</table>\n",
       "<p>38872 rows × 3 columns</p>\n",
       "</div>"
      ],
      "text/plain": [
       "             userid        artist-name  rating\n",
       "0       user_001000              Wilco     5.0\n",
       "1       user_001000          Radiohead     4.9\n",
       "2       user_001000  Animal Collective     4.7\n",
       "3       user_001000          Girl Talk     4.6\n",
       "4       user_001000         Aesop Rock     4.2\n",
       "...             ...                ...     ...\n",
       "896795  user_000001        Steve Reich     0.8\n",
       "896796  user_000001               Enya     0.8\n",
       "896797  user_000001      Nitin Sawhney     0.8\n",
       "896798  user_000001        Reel People     0.8\n",
       "896799  user_000001      Richie Hawtin     0.8\n",
       "\n",
       "[38872 rows x 3 columns]"
      ]
     },
     "execution_count": 24,
     "metadata": {},
     "output_type": "execute_result"
    }
   ],
   "source": [
    "valuableRecords = sorted_user_artists_count_max[sorted_user_artists_count_max['rating'] > 0.7]\n",
    "valuableRecords = valuableRecords.loc[:,['userid', 'artist-name', 'rating']]\n",
    "valuableRecords"
   ]
  },
  {
   "cell_type": "code",
   "execution_count": 27,
   "metadata": {},
   "outputs": [
    {
     "data": {
      "text/plain": [
       "<matplotlib.axes._subplots.AxesSubplot at 0x119f96d00>"
      ]
     },
     "execution_count": 27,
     "metadata": {},
     "output_type": "execute_result"
    },
    {
     "data": {
      "image/png": "[encoded data removed]",
      "text/plain": [
       "<Figure size 432x288 with 1 Axes>"
      ]
     },
     "metadata": {
      "needs_background": "light"
     },
     "output_type": "display_data"
    }
   ],
   "source": [
    "valuableRecords.rating.hist()"
   ]
  },
  {
   "cell_type": "code",
   "execution_count": 26,
   "metadata": {},
   "outputs": [],
   "source": [
    "valuableRecords.to_csv('./data/preprocessed_user_item_rating.csv')"
   ]
  }
 ],
 "metadata": {
  "kernelspec": {
   "display_name": "Python 3",
   "language": "python",
   "name": "python3"
  },
  "language_info": {
   "codemirror_mode": {
    "name": "ipython",
    "version": 3
   },
   "file_extension": ".py",
   "mimetype": "text/x-python",
   "name": "python",
   "nbconvert_exporter": "python",
   "pygments_lexer": "ipython3",
   "version": "3.8.1"
  }
 },
 "nbformat": 4,
 "nbformat_minor": 4
}
