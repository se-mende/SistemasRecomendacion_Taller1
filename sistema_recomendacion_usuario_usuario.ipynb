{
 "cells": [
  {
   "cell_type": "code",
   "execution_count": 9,
   "metadata": {},
   "outputs": [],
   "source": [
    "import os\n",
    "import numpy as np\n",
    "import pandas as pd\n",
    "from surprise import Reader\n",
    "from surprise import Dataset\n",
    "from surprise.model_selection import train_test_split\n",
    "from surprise import KNNBasic\n",
    "from surprise import accuracy\n",
    "import random\n",
    "\n",
    "#Para garantizar reproducibilidad en resultados\n",
    "seed = 10\n",
    "random.seed(seed)\n",
    "np.random.seed(seed)"
   ]
  },
  {
   "cell_type": "code",
   "execution_count": 5,
   "metadata": {},
   "outputs": [],
   "source": [
    "file_path_big = './data/preprocessed_user_item_rating.csv'\n",
    "file_path_first_half = './data/preprocessed_user_item_rating_shuffled_first_half.csv'\n",
    "file_path = file_path_first_half"
   ]
  },
  {
   "cell_type": "code",
   "execution_count": 10,
   "metadata": {},
   "outputs": [
    {
     "name": "stdout",
     "output_type": "stream",
     "text": "El archivo ha sido cargado\n"
    }
   ],
   "source": [
    "if not (os.path.exists(file_path)):\n",
    "  raise ValueError('El archivo preprocessed_user_item_rating.csv no fue encontrado en el path')\n",
    "else:\n",
    "  print(\"El archivo ha sido cargado\")"
   ]
  },
  {
   "cell_type": "code",
   "execution_count": 11,
   "metadata": {},
   "outputs": [
    {
     "data": {
      "text/html": "<div>\n<style scoped>\n    .dataframe tbody tr th:only-of-type {\n        vertical-align: middle;\n    }\n\n    .dataframe tbody tr th {\n        vertical-align: top;\n    }\n\n    .dataframe thead th {\n        text-align: right;\n    }\n</style>\n<table border=\"1\" class=\"dataframe\">\n  <thead>\n    <tr style=\"text-align: right;\">\n      <th></th>\n      <th>userid</th>\n      <th>artist-name</th>\n      <th>rating</th>\n    </tr>\n  </thead>\n  <tbody>\n    <tr>\n      <th>0</th>\n      <td>user_000872</td>\n      <td>Kt Tunstall</td>\n      <td>0.0</td>\n    </tr>\n    <tr>\n      <th>1</th>\n      <td>user_000327</td>\n      <td>Interpol</td>\n      <td>0.8</td>\n    </tr>\n    <tr>\n      <th>2</th>\n      <td>user_000706</td>\n      <td>The Police</td>\n      <td>0.0</td>\n    </tr>\n    <tr>\n      <th>3</th>\n      <td>user_000807</td>\n      <td>Shankar-Ehsaan-Loy</td>\n      <td>0.0</td>\n    </tr>\n    <tr>\n      <th>4</th>\n      <td>user_000223</td>\n      <td>Timo Räisänen</td>\n      <td>0.0</td>\n    </tr>\n    <tr>\n      <th>...</th>\n      <td>...</td>\n      <td>...</td>\n      <td>...</td>\n    </tr>\n    <tr>\n      <th>894494</th>\n      <td>user_000172</td>\n      <td>Ocean'S Eleven Soundtrack</td>\n      <td>0.0</td>\n    </tr>\n    <tr>\n      <th>894495</th>\n      <td>user_000655</td>\n      <td>Pat Benatar</td>\n      <td>0.1</td>\n    </tr>\n    <tr>\n      <th>894496</th>\n      <td>user_000983</td>\n      <td>The Band</td>\n      <td>0.0</td>\n    </tr>\n    <tr>\n      <th>894497</th>\n      <td>user_000298</td>\n      <td>Outkast</td>\n      <td>0.0</td>\n    </tr>\n    <tr>\n      <th>894498</th>\n      <td>user_000694</td>\n      <td>The Dandy Warhols</td>\n      <td>0.2</td>\n    </tr>\n  </tbody>\n</table>\n<p>894499 rows × 3 columns</p>\n</div>",
      "text/plain": "             userid                artist-name  rating\n0       user_000872                Kt Tunstall     0.0\n1       user_000327                   Interpol     0.8\n2       user_000706                 The Police     0.0\n3       user_000807         Shankar-Ehsaan-Loy     0.0\n4       user_000223              Timo Räisänen     0.0\n...             ...                        ...     ...\n894494  user_000172  Ocean'S Eleven Soundtrack     0.0\n894495  user_000655                Pat Benatar     0.1\n894496  user_000983                   The Band     0.0\n894497  user_000298                    Outkast     0.0\n894498  user_000694          The Dandy Warhols     0.2\n\n[894499 rows x 3 columns]"
     },
     "execution_count": 11,
     "metadata": {},
     "output_type": "execute_result"
    }
   ],
   "source": [
    "ratings=pd.read_csv(file_path, sep = ',', header=0, names = [ '', 'userid', 'artist-name', 'count', 'max', 'rating' ] )\n",
    "ratings = ratings.loc[:,['userid', 'artist-name','rating']]\n",
    "ratings"
   ]
  },
  {
   "cell_type": "code",
   "execution_count": 12,
   "metadata": {},
   "outputs": [
    {
     "data": {
      "text/plain": "count    894499.000000\nmean          0.131956\nstd           0.389017\nmin           0.000000\n25%           0.000000\n50%           0.000000\n75%           0.100000\nmax           5.000000\nName: rating, dtype: float64"
     },
     "execution_count": 12,
     "metadata": {},
     "output_type": "execute_result"
    }
   ],
   "source": [
    "ratings.rating.describe()"
   ]
  },
  {
   "cell_type": "code",
   "execution_count": 13,
   "metadata": {},
   "outputs": [],
   "source": [
    "# Creacion sistema de recomendacion"
   ]
  },
  {
   "cell_type": "code",
   "execution_count": 14,
   "metadata": {},
   "outputs": [],
   "source": [
    "reader = Reader( rating_scale = ( 0, 5 ) )\n",
    "#Se crea el dataset a partir del dataframe\n",
    "surprise_dataset = Dataset.load_from_df( ratings[ [ 'userid', 'artist-name', 'rating' ] ], reader )"
   ]
  },
  {
   "cell_type": "code",
   "execution_count": 15,
   "metadata": {},
   "outputs": [],
   "source": [
    "trainset, testset=  train_test_split(surprise_dataset, test_size=.2)"
   ]
  },
  {
   "cell_type": "markdown",
   "metadata": {},
   "source": [
    "### Modelo basado en distancias coseno"
   ]
  },
  {
   "cell_type": "code",
   "execution_count": 16,
   "metadata": {},
   "outputs": [],
   "source": [
    "sim_options = {'name': 'cosine',\n",
    "               'user_based': True  # calcule similitud item-item\n",
    "               }\n",
    "algo = KNNBasic(k=10, min_k=5, sim_options=sim_options)"
   ]
  },
  {
   "cell_type": "markdown",
   "metadata": {},
   "source": [
    "### Modelo basado en índice de Jaccard"
   ]
  },
  {
   "cell_type": "markdown",
   "metadata": {},
   "source": [
    "### Modelo basado en correlación de Pearson"
   ]
  },
  {
   "cell_type": "code",
   "execution_count": 41,
   "metadata": {},
   "outputs": [],
   "source": [
    "sim_options = {'name': 'pearson_baseline',\n",
    "               'user_based': True,\n",
    "               'shrinkage': 0  # no shrinkage\n",
    "               }\n",
    "algo = KNNBasic(sim_options=sim_options)"
   ]
  },
  {
   "cell_type": "markdown",
   "metadata": {},
   "source": [
    "### Recomendaciones"
   ]
  },
  {
   "cell_type": "code",
   "execution_count": 17,
   "metadata": {},
   "outputs": [
    {
     "name": "stdout",
     "output_type": "stream",
     "text": "Computing the cosine similarity matrix...\nDone computing similarity matrix.\n"
    }
   ],
   "source": [
    "predictions = algo.fit(trainset).test(testset)"
   ]
  },
  {
   "cell_type": "code",
   "execution_count": 18,
   "metadata": {},
   "outputs": [],
   "source": [
    "#Predicciones para usuario user_001000\n",
    "user_predictions=list(filter(lambda x: x[0]=='user_001000',predictions))"
   ]
  },
  {
   "cell_type": "code",
   "execution_count": 19,
   "metadata": {},
   "outputs": [],
   "source": [
    "#Ordenamos de mayor a menor estimación de relevancia\n",
    "user_predictions.sort(key=lambda x : x.est, reverse=True)"
   ]
  },
  {
   "cell_type": "code",
   "execution_count": 20,
   "metadata": {},
   "outputs": [],
   "source": [
    "#tomamos las 10 primeras predicciones\n",
    "user_predictions=user_predictions[0:10]"
   ]
  },
  {
   "cell_type": "code",
   "execution_count": 21,
   "metadata": {},
   "outputs": [],
   "source": [
    "#Se convierte a dataframe\n",
    "labels = ['artist', 'estimation']\n",
    "df_predictions = pd.DataFrame.from_records(list(map(lambda x: (x.iid, x.est) , user_predictions)), columns=labels)"
   ]
  },
  {
   "cell_type": "markdown",
   "metadata": {},
   "source": [
    "### Recomendaciones usuario 001000"
   ]
  },
  {
   "cell_type": "code",
   "execution_count": 22,
   "metadata": {},
   "outputs": [
    {
     "data": {
      "text/html": "<div>\n<style scoped>\n    .dataframe tbody tr th:only-of-type {\n        vertical-align: middle;\n    }\n\n    .dataframe tbody tr th {\n        vertical-align: top;\n    }\n\n    .dataframe thead th {\n        text-align: right;\n    }\n</style>\n<table border=\"1\" class=\"dataframe\">\n  <thead>\n    <tr style=\"text-align: right;\">\n      <th></th>\n      <th>artist</th>\n      <th>estimation</th>\n    </tr>\n  </thead>\n  <tbody>\n    <tr>\n      <th>0</th>\n      <td>Kings Of Leon</td>\n      <td>1.241916</td>\n    </tr>\n    <tr>\n      <th>1</th>\n      <td>Belle And Sebastian</td>\n      <td>1.066580</td>\n    </tr>\n    <tr>\n      <th>2</th>\n      <td>Bloc Party</td>\n      <td>0.870899</td>\n    </tr>\n    <tr>\n      <th>3</th>\n      <td>Elliott Smith</td>\n      <td>0.770619</td>\n    </tr>\n    <tr>\n      <th>4</th>\n      <td>Animal Collective</td>\n      <td>0.709156</td>\n    </tr>\n    <tr>\n      <th>5</th>\n      <td>Friendly Fires</td>\n      <td>0.706049</td>\n    </tr>\n    <tr>\n      <th>6</th>\n      <td>The Shins</td>\n      <td>0.672026</td>\n    </tr>\n    <tr>\n      <th>7</th>\n      <td>Andrew Bird</td>\n      <td>0.619298</td>\n    </tr>\n    <tr>\n      <th>8</th>\n      <td>Arcade Fire</td>\n      <td>0.572819</td>\n    </tr>\n    <tr>\n      <th>9</th>\n      <td>Pavement</td>\n      <td>0.570884</td>\n    </tr>\n  </tbody>\n</table>\n</div>",
      "text/plain": "                artist  estimation\n0        Kings Of Leon    1.241916\n1  Belle And Sebastian    1.066580\n2           Bloc Party    0.870899\n3        Elliott Smith    0.770619\n4    Animal Collective    0.709156\n5       Friendly Fires    0.706049\n6            The Shins    0.672026\n7          Andrew Bird    0.619298\n8          Arcade Fire    0.572819\n9             Pavement    0.570884"
     },
     "execution_count": 22,
     "metadata": {},
     "output_type": "execute_result"
    }
   ],
   "source": [
    "df_predictions"
   ]
  },
  {
   "cell_type": "code",
   "execution_count": 23,
   "metadata": {},
   "outputs": [
    {
     "name": "stdout",
     "output_type": "stream",
     "text": "RMSE: 1.8350\n"
    },
    {
     "data": {
      "text/plain": "1.8350220682328273"
     },
     "execution_count": 23,
     "metadata": {},
     "output_type": "execute_result"
    }
   ],
   "source": [
    "accuracy.rmse( user_predictions, verbose = True )"
   ]
  },
  {
   "cell_type": "code",
   "execution_count": 24,
   "metadata": {},
   "outputs": [
    {
     "data": {
      "text/plain": "Prediction(uid='user_001000', iid='John Maus', r_ui=None, est=0.24389435333394394, details={'actual_k': 8, 'was_impossible': False})"
     },
     "execution_count": 24,
     "metadata": {},
     "output_type": "execute_result"
    }
   ],
   "source": [
    "algo.predict('user_001000','John Maus')"
   ]
  },
  {
   "cell_type": "code",
   "execution_count": 25,
   "metadata": {},
   "outputs": [
    {
     "data": {
      "text/html": "<div>\n<style scoped>\n    .dataframe tbody tr th:only-of-type {\n        vertical-align: middle;\n    }\n\n    .dataframe tbody tr th {\n        vertical-align: top;\n    }\n\n    .dataframe thead th {\n        text-align: right;\n    }\n</style>\n<table border=\"1\" class=\"dataframe\">\n  <thead>\n    <tr style=\"text-align: right;\">\n      <th></th>\n      <th>userid</th>\n      <th>artist-name</th>\n      <th>rating</th>\n    </tr>\n  </thead>\n  <tbody>\n    <tr>\n      <th>612667</th>\n      <td>user_001000</td>\n      <td>Spoon</td>\n      <td>1.1</td>\n    </tr>\n  </tbody>\n</table>\n</div>",
      "text/plain": "             userid artist-name  rating\n612667  user_001000       Spoon     1.1"
     },
     "execution_count": 25,
     "metadata": {},
     "output_type": "execute_result"
    }
   ],
   "source": [
    "ratings_100 = ratings[ratings['userid']=='user_001000']\n",
    "ratings_100[ratings_100['artist-name']=='Spoon']"
   ]
  },
  {
   "cell_type": "code",
   "execution_count": null,
   "metadata": {},
   "outputs": [],
   "source": []
  }
 ],
 "metadata": {
  "kernelspec": {
   "display_name": "Python 3",
   "language": "python",
   "name": "python3"
  },
  "language_info": {
   "codemirror_mode": {
    "name": "ipython",
    "version": 3
   },
   "file_extension": ".py",
   "mimetype": "text/x-python",
   "name": "python",
   "nbconvert_exporter": "python",
   "pygments_lexer": "ipython3",
   "version": "3.8.1-final"
  }
 },
 "nbformat": 4,
 "nbformat_minor": 4
}