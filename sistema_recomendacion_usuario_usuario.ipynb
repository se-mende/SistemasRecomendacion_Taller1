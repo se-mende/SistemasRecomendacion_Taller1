{
 "cells": [
  {
   "cell_type": "code",
   "execution_count": 1,
   "metadata": {},
   "outputs": [],
   "source": [
    "import os\n",
    "import numpy as np\n",
    "import pandas as pd\n",
    "from surprise import Reader\n",
    "from surprise import Dataset\n",
    "from surprise.model_selection import train_test_split\n",
    "from surprise import KNNBasic\n",
    "from surprise import accuracy\n",
    "import random\n",
    "import pickle\n",
    "\n",
    "#Para garantizar reproducibilidad en resultados\n",
    "seed = 10\n",
    "random.seed(seed)\n",
    "np.random.seed(seed)"
   ]
  },
  {
   "cell_type": "code",
   "execution_count": 2,
   "metadata": {},
   "outputs": [],
   "source": [
    "file_path = './data/preprocessed_user_item_rating.csv'"
   ]
  },
  {
   "cell_type": "code",
   "execution_count": 3,
   "metadata": {},
   "outputs": [
    {
     "name": "stdout",
     "output_type": "stream",
     "text": [
      "El archivo ha sido cargado\n"
     ]
    }
   ],
   "source": [
    "if not (os.path.exists(file_path)):\n",
    "  raise ValueError('El archivo preprocessed_user_item_rating.csv no fue encontrado en el path')\n",
    "else:\n",
    "  print(\"El archivo ha sido cargado\")"
   ]
  },
  {
   "cell_type": "code",
   "execution_count": 4,
   "metadata": {},
   "outputs": [
    {
     "data": {
      "text/html": [
       "<div>\n",
       "<style scoped>\n",
       "    .dataframe tbody tr th:only-of-type {\n",
       "        vertical-align: middle;\n",
       "    }\n",
       "\n",
       "    .dataframe tbody tr th {\n",
       "        vertical-align: top;\n",
       "    }\n",
       "\n",
       "    .dataframe thead th {\n",
       "        text-align: right;\n",
       "    }\n",
       "</style>\n",
       "<table border=\"1\" class=\"dataframe\">\n",
       "  <thead>\n",
       "    <tr style=\"text-align: right;\">\n",
       "      <th></th>\n",
       "      <th>userid</th>\n",
       "      <th>artist-name</th>\n",
       "      <th>rating</th>\n",
       "    </tr>\n",
       "  </thead>\n",
       "  <tbody>\n",
       "    <tr>\n",
       "      <th>0</th>\n",
       "      <td>user_001000</td>\n",
       "      <td>Wilco</td>\n",
       "      <td>5.0</td>\n",
       "    </tr>\n",
       "    <tr>\n",
       "      <th>1</th>\n",
       "      <td>user_001000</td>\n",
       "      <td>Radiohead</td>\n",
       "      <td>4.9</td>\n",
       "    </tr>\n",
       "    <tr>\n",
       "      <th>2</th>\n",
       "      <td>user_001000</td>\n",
       "      <td>Animal Collective</td>\n",
       "      <td>4.7</td>\n",
       "    </tr>\n",
       "    <tr>\n",
       "      <th>3</th>\n",
       "      <td>user_001000</td>\n",
       "      <td>Girl Talk</td>\n",
       "      <td>4.6</td>\n",
       "    </tr>\n",
       "    <tr>\n",
       "      <th>4</th>\n",
       "      <td>user_001000</td>\n",
       "      <td>Aesop Rock</td>\n",
       "      <td>4.2</td>\n",
       "    </tr>\n",
       "    <tr>\n",
       "      <th>...</th>\n",
       "      <td>...</td>\n",
       "      <td>...</td>\n",
       "      <td>...</td>\n",
       "    </tr>\n",
       "    <tr>\n",
       "      <th>896880</th>\n",
       "      <td>user_000001</td>\n",
       "      <td>Jamie Lidell</td>\n",
       "      <td>0.2</td>\n",
       "    </tr>\n",
       "    <tr>\n",
       "      <th>896881</th>\n",
       "      <td>user_000001</td>\n",
       "      <td>Nick Holmes</td>\n",
       "      <td>0.2</td>\n",
       "    </tr>\n",
       "    <tr>\n",
       "      <th>896882</th>\n",
       "      <td>user_000001</td>\n",
       "      <td>Nuyorican Soul</td>\n",
       "      <td>0.2</td>\n",
       "    </tr>\n",
       "    <tr>\n",
       "      <th>896883</th>\n",
       "      <td>user_000001</td>\n",
       "      <td>The Birthday</td>\n",
       "      <td>0.2</td>\n",
       "    </tr>\n",
       "    <tr>\n",
       "      <th>896884</th>\n",
       "      <td>user_000001</td>\n",
       "      <td>To Rococo Rot</td>\n",
       "      <td>0.2</td>\n",
       "    </tr>\n",
       "  </tbody>\n",
       "</table>\n",
       "<p>167494 rows × 3 columns</p>\n",
       "</div>"
      ],
      "text/plain": [
       "             userid        artist-name  rating\n",
       "0       user_001000              Wilco     5.0\n",
       "1       user_001000          Radiohead     4.9\n",
       "2       user_001000  Animal Collective     4.7\n",
       "3       user_001000          Girl Talk     4.6\n",
       "4       user_001000         Aesop Rock     4.2\n",
       "...             ...                ...     ...\n",
       "896880  user_000001       Jamie Lidell     0.2\n",
       "896881  user_000001        Nick Holmes     0.2\n",
       "896882  user_000001     Nuyorican Soul     0.2\n",
       "896883  user_000001       The Birthday     0.2\n",
       "896884  user_000001      To Rococo Rot     0.2\n",
       "\n",
       "[167494 rows x 3 columns]"
      ]
     },
     "execution_count": 4,
     "metadata": {},
     "output_type": "execute_result"
    }
   ],
   "source": [
    "ratings=pd.read_csv(file_path, sep = ',', header=0, names = [ 'userid', 'artist-name', 'rating' ] )\n",
    "ratings = ratings.loc[:,['userid', 'artist-name','rating']]\n",
    "ratings"
   ]
  },
  {
   "cell_type": "code",
   "execution_count": 5,
   "metadata": {
    "scrolled": false
   },
   "outputs": [
    {
     "data": {
      "text/plain": [
       "count    167494.000000\n",
       "mean          0.635761\n",
       "std           0.737520\n",
       "min           0.200000\n",
       "25%           0.200000\n",
       "50%           0.400000\n",
       "75%           0.700000\n",
       "max           5.000000\n",
       "Name: rating, dtype: float64"
      ]
     },
     "execution_count": 5,
     "metadata": {},
     "output_type": "execute_result"
    }
   ],
   "source": [
    "ratings.rating.describe()"
   ]
  },
  {
   "cell_type": "markdown",
   "metadata": {},
   "source": [
    "# Creacion sistema de recomendacion"
   ]
  },
  {
   "cell_type": "code",
   "execution_count": 8,
   "metadata": {},
   "outputs": [],
   "source": [
    "reader = Reader( rating_scale = ( 0, 5 ) )\n",
    "#Se crea el dataset a partir del dataframe\n",
    "surprise_dataset = Dataset.load_from_df( ratings[ [ 'userid', 'artist-name', 'rating' ] ], reader )"
   ]
  },
  {
   "cell_type": "code",
   "execution_count": 9,
   "metadata": {},
   "outputs": [],
   "source": [
    "trainset, testset=  train_test_split(surprise_dataset, test_size=.2)"
   ]
  },
  {
   "cell_type": "markdown",
   "metadata": {},
   "source": [
    "### Modelo basado en distancias coseno"
   ]
  },
  {
   "cell_type": "code",
   "execution_count": 100,
   "metadata": {},
   "outputs": [],
   "source": [
    "sim_options = {'name': 'cosine',\n",
    "               'user_based': True  # calcule similitud item-item\n",
    "               }\n",
    "algo = KNNBasic(k=50, min_k=10, sim_options=sim_options)"
   ]
  },
  {
   "cell_type": "code",
   "execution_count": 101,
   "metadata": {},
   "outputs": [
    {
     "name": "stdout",
     "output_type": "stream",
     "text": [
      "Computing the cosine similarity matrix...\n",
      "Done computing similarity matrix.\n"
     ]
    }
   ],
   "source": [
    "predictions = algo.fit(trainset).test(testset)"
   ]
  },
  {
   "cell_type": "code",
   "execution_count": 102,
   "metadata": {},
   "outputs": [],
   "source": [
    "pickle.dump( predictions, open( \"./Data/predictions_uu_cosine.p\", \"wb\" ) )"
   ]
  },
  {
   "cell_type": "markdown",
   "metadata": {},
   "source": [
    "### Modelo basado en índice de Jaccard"
   ]
  },
  {
   "cell_type": "code",
   "execution_count": 18,
   "metadata": {},
   "outputs": [],
   "source": [
    "ratings_jaccard=ratings.groupby('userid')['artist-name'].apply(lambda x: ','.join(x)).tolist()"
   ]
  },
  {
   "cell_type": "code",
   "execution_count": 19,
   "metadata": {},
   "outputs": [
    {
     "data": {
      "text/html": [
       "<div>\n",
       "<style scoped>\n",
       "    .dataframe tbody tr th:only-of-type {\n",
       "        vertical-align: middle;\n",
       "    }\n",
       "\n",
       "    .dataframe tbody tr th {\n",
       "        vertical-align: top;\n",
       "    }\n",
       "\n",
       "    .dataframe thead th {\n",
       "        text-align: right;\n",
       "    }\n",
       "</style>\n",
       "<table border=\"1\" class=\"dataframe\">\n",
       "  <thead>\n",
       "    <tr style=\"text-align: right;\">\n",
       "      <th></th>\n",
       "      <th>0</th>\n",
       "      <th>1</th>\n",
       "      <th>2</th>\n",
       "      <th>3</th>\n",
       "      <th>4</th>\n",
       "      <th>5</th>\n",
       "      <th>6</th>\n",
       "      <th>7</th>\n",
       "      <th>8</th>\n",
       "      <th>9</th>\n",
       "      <th>...</th>\n",
       "      <th>981</th>\n",
       "      <th>982</th>\n",
       "      <th>983</th>\n",
       "      <th>984</th>\n",
       "      <th>985</th>\n",
       "      <th>986</th>\n",
       "      <th>987</th>\n",
       "      <th>988</th>\n",
       "      <th>989</th>\n",
       "      <th>990</th>\n",
       "    </tr>\n",
       "  </thead>\n",
       "  <tbody>\n",
       "    <tr>\n",
       "      <th>0</th>\n",
       "      <td>0.522523</td>\n",
       "      <td>0.592233</td>\n",
       "      <td>0.500000</td>\n",
       "      <td>0.578431</td>\n",
       "      <td>0.407895</td>\n",
       "      <td>0.513274</td>\n",
       "      <td>0.163265</td>\n",
       "      <td>0.491071</td>\n",
       "      <td>0.564356</td>\n",
       "      <td>0.570093</td>\n",
       "      <td>...</td>\n",
       "      <td>0.464000</td>\n",
       "      <td>0.490385</td>\n",
       "      <td>0.504505</td>\n",
       "      <td>0.568627</td>\n",
       "      <td>0.540000</td>\n",
       "      <td>0.495050</td>\n",
       "      <td>0.397959</td>\n",
       "      <td>0.560748</td>\n",
       "      <td>0.462810</td>\n",
       "      <td>0.559633</td>\n",
       "    </tr>\n",
       "    <tr>\n",
       "      <th>1</th>\n",
       "      <td>0.522523</td>\n",
       "      <td>0.756410</td>\n",
       "      <td>0.771084</td>\n",
       "      <td>0.763158</td>\n",
       "      <td>0.460938</td>\n",
       "      <td>0.714286</td>\n",
       "      <td>0.225352</td>\n",
       "      <td>0.627907</td>\n",
       "      <td>0.746667</td>\n",
       "      <td>0.762500</td>\n",
       "      <td>...</td>\n",
       "      <td>0.659574</td>\n",
       "      <td>0.542169</td>\n",
       "      <td>0.772152</td>\n",
       "      <td>0.773333</td>\n",
       "      <td>0.763889</td>\n",
       "      <td>0.698630</td>\n",
       "      <td>0.549296</td>\n",
       "      <td>0.818182</td>\n",
       "      <td>0.630435</td>\n",
       "      <td>0.765432</td>\n",
       "    </tr>\n",
       "    <tr>\n",
       "      <th>2</th>\n",
       "      <td>0.592233</td>\n",
       "      <td>0.756410</td>\n",
       "      <td>0.670588</td>\n",
       "      <td>0.816901</td>\n",
       "      <td>0.491803</td>\n",
       "      <td>0.716049</td>\n",
       "      <td>0.242424</td>\n",
       "      <td>0.646341</td>\n",
       "      <td>0.852941</td>\n",
       "      <td>0.789474</td>\n",
       "      <td>...</td>\n",
       "      <td>0.606383</td>\n",
       "      <td>0.640000</td>\n",
       "      <td>0.776316</td>\n",
       "      <td>0.882353</td>\n",
       "      <td>0.794118</td>\n",
       "      <td>0.776119</td>\n",
       "      <td>0.590909</td>\n",
       "      <td>0.800000</td>\n",
       "      <td>0.666667</td>\n",
       "      <td>0.769231</td>\n",
       "    </tr>\n",
       "    <tr>\n",
       "      <th>3</th>\n",
       "      <td>0.500000</td>\n",
       "      <td>0.771084</td>\n",
       "      <td>0.670588</td>\n",
       "      <td>0.716049</td>\n",
       "      <td>0.443609</td>\n",
       "      <td>0.674157</td>\n",
       "      <td>0.210526</td>\n",
       "      <td>0.593407</td>\n",
       "      <td>0.638554</td>\n",
       "      <td>0.697674</td>\n",
       "      <td>...</td>\n",
       "      <td>0.594059</td>\n",
       "      <td>0.528736</td>\n",
       "      <td>0.705882</td>\n",
       "      <td>0.703704</td>\n",
       "      <td>0.714286</td>\n",
       "      <td>0.675325</td>\n",
       "      <td>0.513158</td>\n",
       "      <td>0.726190</td>\n",
       "      <td>0.614583</td>\n",
       "      <td>0.701149</td>\n",
       "    </tr>\n",
       "    <tr>\n",
       "      <th>4</th>\n",
       "      <td>0.578431</td>\n",
       "      <td>0.763158</td>\n",
       "      <td>0.816901</td>\n",
       "      <td>0.716049</td>\n",
       "      <td>0.479339</td>\n",
       "      <td>0.743590</td>\n",
       "      <td>0.253968</td>\n",
       "      <td>0.650000</td>\n",
       "      <td>0.782609</td>\n",
       "      <td>0.727273</td>\n",
       "      <td>...</td>\n",
       "      <td>0.591398</td>\n",
       "      <td>0.666667</td>\n",
       "      <td>0.692308</td>\n",
       "      <td>0.838235</td>\n",
       "      <td>0.803030</td>\n",
       "      <td>0.757576</td>\n",
       "      <td>0.619048</td>\n",
       "      <td>0.760000</td>\n",
       "      <td>0.632184</td>\n",
       "      <td>0.753247</td>\n",
       "    </tr>\n",
       "    <tr>\n",
       "      <th>...</th>\n",
       "      <td>...</td>\n",
       "      <td>...</td>\n",
       "      <td>...</td>\n",
       "      <td>...</td>\n",
       "      <td>...</td>\n",
       "      <td>...</td>\n",
       "      <td>...</td>\n",
       "      <td>...</td>\n",
       "      <td>...</td>\n",
       "      <td>...</td>\n",
       "      <td>...</td>\n",
       "      <td>...</td>\n",
       "      <td>...</td>\n",
       "      <td>...</td>\n",
       "      <td>...</td>\n",
       "      <td>...</td>\n",
       "      <td>...</td>\n",
       "      <td>...</td>\n",
       "      <td>...</td>\n",
       "      <td>...</td>\n",
       "      <td>...</td>\n",
       "    </tr>\n",
       "    <tr>\n",
       "      <th>987</th>\n",
       "      <td>0.495050</td>\n",
       "      <td>0.698630</td>\n",
       "      <td>0.776119</td>\n",
       "      <td>0.675325</td>\n",
       "      <td>0.757576</td>\n",
       "      <td>0.432203</td>\n",
       "      <td>0.657895</td>\n",
       "      <td>0.277778</td>\n",
       "      <td>0.626667</td>\n",
       "      <td>0.712121</td>\n",
       "      <td>...</td>\n",
       "      <td>0.571429</td>\n",
       "      <td>0.586207</td>\n",
       "      <td>0.641791</td>\n",
       "      <td>0.671233</td>\n",
       "      <td>0.796875</td>\n",
       "      <td>0.816667</td>\n",
       "      <td>0.703704</td>\n",
       "      <td>0.718310</td>\n",
       "      <td>0.609756</td>\n",
       "      <td>0.689189</td>\n",
       "    </tr>\n",
       "    <tr>\n",
       "      <th>988</th>\n",
       "      <td>0.397959</td>\n",
       "      <td>0.549296</td>\n",
       "      <td>0.590909</td>\n",
       "      <td>0.513158</td>\n",
       "      <td>0.619048</td>\n",
       "      <td>0.336207</td>\n",
       "      <td>0.534247</td>\n",
       "      <td>0.309524</td>\n",
       "      <td>0.542857</td>\n",
       "      <td>0.622951</td>\n",
       "      <td>...</td>\n",
       "      <td>0.433333</td>\n",
       "      <td>0.458824</td>\n",
       "      <td>0.627119</td>\n",
       "      <td>0.565217</td>\n",
       "      <td>0.629032</td>\n",
       "      <td>0.696429</td>\n",
       "      <td>0.703704</td>\n",
       "      <td>0.565217</td>\n",
       "      <td>0.475000</td>\n",
       "      <td>0.541667</td>\n",
       "    </tr>\n",
       "    <tr>\n",
       "      <th>989</th>\n",
       "      <td>0.560748</td>\n",
       "      <td>0.818182</td>\n",
       "      <td>0.800000</td>\n",
       "      <td>0.726190</td>\n",
       "      <td>0.760000</td>\n",
       "      <td>0.480000</td>\n",
       "      <td>0.651163</td>\n",
       "      <td>0.231884</td>\n",
       "      <td>0.623529</td>\n",
       "      <td>0.791667</td>\n",
       "      <td>...</td>\n",
       "      <td>0.673684</td>\n",
       "      <td>0.621053</td>\n",
       "      <td>0.615385</td>\n",
       "      <td>0.840000</td>\n",
       "      <td>0.723684</td>\n",
       "      <td>0.736111</td>\n",
       "      <td>0.718310</td>\n",
       "      <td>0.565217</td>\n",
       "      <td>0.608696</td>\n",
       "      <td>0.762500</td>\n",
       "    </tr>\n",
       "    <tr>\n",
       "      <th>990</th>\n",
       "      <td>0.462810</td>\n",
       "      <td>0.630435</td>\n",
       "      <td>0.666667</td>\n",
       "      <td>0.614583</td>\n",
       "      <td>0.632184</td>\n",
       "      <td>0.392857</td>\n",
       "      <td>0.617021</td>\n",
       "      <td>0.202532</td>\n",
       "      <td>0.557895</td>\n",
       "      <td>0.616279</td>\n",
       "      <td>...</td>\n",
       "      <td>0.564815</td>\n",
       "      <td>0.547170</td>\n",
       "      <td>0.545455</td>\n",
       "      <td>0.608696</td>\n",
       "      <td>0.678571</td>\n",
       "      <td>0.607143</td>\n",
       "      <td>0.609756</td>\n",
       "      <td>0.475000</td>\n",
       "      <td>0.608696</td>\n",
       "      <td>0.589474</td>\n",
       "    </tr>\n",
       "    <tr>\n",
       "      <th>991</th>\n",
       "      <td>0.559633</td>\n",
       "      <td>0.765432</td>\n",
       "      <td>0.769231</td>\n",
       "      <td>0.701149</td>\n",
       "      <td>0.753247</td>\n",
       "      <td>0.457364</td>\n",
       "      <td>0.647727</td>\n",
       "      <td>0.222222</td>\n",
       "      <td>0.584270</td>\n",
       "      <td>0.736842</td>\n",
       "      <td>...</td>\n",
       "      <td>0.636364</td>\n",
       "      <td>0.570000</td>\n",
       "      <td>0.573171</td>\n",
       "      <td>0.719512</td>\n",
       "      <td>0.740260</td>\n",
       "      <td>0.729730</td>\n",
       "      <td>0.689189</td>\n",
       "      <td>0.541667</td>\n",
       "      <td>0.762500</td>\n",
       "      <td>0.589474</td>\n",
       "    </tr>\n",
       "  </tbody>\n",
       "</table>\n",
       "<p>992 rows × 991 columns</p>\n",
       "</div>"
      ],
      "text/plain": [
       "          0         1         2         3         4         5         6    \\\n",
       "0    0.522523  0.592233  0.500000  0.578431  0.407895  0.513274  0.163265   \n",
       "1    0.522523  0.756410  0.771084  0.763158  0.460938  0.714286  0.225352   \n",
       "2    0.592233  0.756410  0.670588  0.816901  0.491803  0.716049  0.242424   \n",
       "3    0.500000  0.771084  0.670588  0.716049  0.443609  0.674157  0.210526   \n",
       "4    0.578431  0.763158  0.816901  0.716049  0.479339  0.743590  0.253968   \n",
       "..        ...       ...       ...       ...       ...       ...       ...   \n",
       "987  0.495050  0.698630  0.776119  0.675325  0.757576  0.432203  0.657895   \n",
       "988  0.397959  0.549296  0.590909  0.513158  0.619048  0.336207  0.534247   \n",
       "989  0.560748  0.818182  0.800000  0.726190  0.760000  0.480000  0.651163   \n",
       "990  0.462810  0.630435  0.666667  0.614583  0.632184  0.392857  0.617021   \n",
       "991  0.559633  0.765432  0.769231  0.701149  0.753247  0.457364  0.647727   \n",
       "\n",
       "          7         8         9    ...       981       982       983  \\\n",
       "0    0.491071  0.564356  0.570093  ...  0.464000  0.490385  0.504505   \n",
       "1    0.627907  0.746667  0.762500  ...  0.659574  0.542169  0.772152   \n",
       "2    0.646341  0.852941  0.789474  ...  0.606383  0.640000  0.776316   \n",
       "3    0.593407  0.638554  0.697674  ...  0.594059  0.528736  0.705882   \n",
       "4    0.650000  0.782609  0.727273  ...  0.591398  0.666667  0.692308   \n",
       "..        ...       ...       ...  ...       ...       ...       ...   \n",
       "987  0.277778  0.626667  0.712121  ...  0.571429  0.586207  0.641791   \n",
       "988  0.309524  0.542857  0.622951  ...  0.433333  0.458824  0.627119   \n",
       "989  0.231884  0.623529  0.791667  ...  0.673684  0.621053  0.615385   \n",
       "990  0.202532  0.557895  0.616279  ...  0.564815  0.547170  0.545455   \n",
       "991  0.222222  0.584270  0.736842  ...  0.636364  0.570000  0.573171   \n",
       "\n",
       "          984       985       986       987       988       989       990  \n",
       "0    0.568627  0.540000  0.495050  0.397959  0.560748  0.462810  0.559633  \n",
       "1    0.773333  0.763889  0.698630  0.549296  0.818182  0.630435  0.765432  \n",
       "2    0.882353  0.794118  0.776119  0.590909  0.800000  0.666667  0.769231  \n",
       "3    0.703704  0.714286  0.675325  0.513158  0.726190  0.614583  0.701149  \n",
       "4    0.838235  0.803030  0.757576  0.619048  0.760000  0.632184  0.753247  \n",
       "..        ...       ...       ...       ...       ...       ...       ...  \n",
       "987  0.671233  0.796875  0.816667  0.703704  0.718310  0.609756  0.689189  \n",
       "988  0.565217  0.629032  0.696429  0.703704  0.565217  0.475000  0.541667  \n",
       "989  0.840000  0.723684  0.736111  0.718310  0.565217  0.608696  0.762500  \n",
       "990  0.608696  0.678571  0.607143  0.609756  0.475000  0.608696  0.589474  \n",
       "991  0.719512  0.740260  0.729730  0.689189  0.541667  0.762500  0.589474  \n",
       "\n",
       "[992 rows x 991 columns]"
      ]
     },
     "execution_count": 19,
     "metadata": {},
     "output_type": "execute_result"
    }
   ],
   "source": [
    "ListaL=[]\n",
    "for x in ratings_jaccard:\n",
    "    lista=[]\n",
    "    for y in ratings_jaccard:\n",
    "        if x is not y:\n",
    "            z = len(set(x).intersection(y)) / len(set(x).union(y))\n",
    "            lista.append(z)\n",
    "    ListaL.append(lista)\n",
    "    \n",
    "jaccard_df = pd.DataFrame(ListaL)\n",
    "jaccard_df"
   ]
  },
  {
   "cell_type": "markdown",
   "metadata": {},
   "source": [
    "### Modelo basado en correlación de Pearson"
   ]
  },
  {
   "cell_type": "code",
   "execution_count": 90,
   "metadata": {},
   "outputs": [],
   "source": [
    "sim_options = {'name': 'pearson_baseline',\n",
    "               'user_based': True,\n",
    "               'shrinkage': 0  # no shrinkage\n",
    "               }\n",
    "algo = KNNBasic(sim_options=sim_options)"
   ]
  },
  {
   "cell_type": "code",
   "execution_count": 91,
   "metadata": {},
   "outputs": [
    {
     "name": "stdout",
     "output_type": "stream",
     "text": [
      "Estimating biases using als...\n",
      "Computing the pearson_baseline similarity matrix...\n",
      "Done computing similarity matrix.\n"
     ]
    }
   ],
   "source": [
    "predictions = algo.fit(trainset).test(testset)"
   ]
  },
  {
   "cell_type": "code",
   "execution_count": 92,
   "metadata": {},
   "outputs": [],
   "source": [
    "pickle.dump( predictions, open( \"./Data/predictions_uu_pearson.p\", \"wb\" ) )"
   ]
  },
  {
   "cell_type": "markdown",
   "metadata": {},
   "source": [
    "### Recomendaciones"
   ]
  },
  {
   "cell_type": "code",
   "execution_count": 93,
   "metadata": {},
   "outputs": [],
   "source": [
    "pickle_predictions = pickle.load( open( \"./Data/predictions_uu_pearson.p\", \"rb\" ) )"
   ]
  },
  {
   "cell_type": "code",
   "execution_count": 94,
   "metadata": {},
   "outputs": [],
   "source": [
    "#Predicciones para usuario user_001000\n",
    "user_predictions=list(filter(lambda x: x[0]=='user_001000' and x[4]['was_impossible']==False,pickle_predictions))"
   ]
  },
  {
   "cell_type": "code",
   "execution_count": 95,
   "metadata": {},
   "outputs": [],
   "source": [
    "#Ordenamos de mayor a menor estimación de relevancia\n",
    "user_predictions.sort(key=lambda x : x.est, reverse=True)"
   ]
  },
  {
   "cell_type": "code",
   "execution_count": 96,
   "metadata": {},
   "outputs": [],
   "source": [
    "#tomamos las 10 primeras predicciones\n",
    "user_predictions=user_predictions[0:10]"
   ]
  },
  {
   "cell_type": "code",
   "execution_count": 97,
   "metadata": {},
   "outputs": [],
   "source": [
    "#Se convierte a dataframe\n",
    "labels = ['artist', 'estimation']\n",
    "df_predictions = pd.DataFrame.from_records(list(map(lambda x: (x.iid, x.est) , user_predictions)), columns=labels)"
   ]
  },
  {
   "cell_type": "markdown",
   "metadata": {},
   "source": [
    "### Recomendaciones usuario 001000"
   ]
  },
  {
   "cell_type": "code",
   "execution_count": 98,
   "metadata": {},
   "outputs": [
    {
     "data": {
      "text/html": [
       "<div>\n",
       "<style scoped>\n",
       "    .dataframe tbody tr th:only-of-type {\n",
       "        vertical-align: middle;\n",
       "    }\n",
       "\n",
       "    .dataframe tbody tr th {\n",
       "        vertical-align: top;\n",
       "    }\n",
       "\n",
       "    .dataframe thead th {\n",
       "        text-align: right;\n",
       "    }\n",
       "</style>\n",
       "<table border=\"1\" class=\"dataframe\">\n",
       "  <thead>\n",
       "    <tr style=\"text-align: right;\">\n",
       "      <th></th>\n",
       "      <th>artist</th>\n",
       "      <th>estimation</th>\n",
       "    </tr>\n",
       "  </thead>\n",
       "  <tbody>\n",
       "    <tr>\n",
       "      <th>0</th>\n",
       "      <td>Crystal Castles</td>\n",
       "      <td>1.290774</td>\n",
       "    </tr>\n",
       "    <tr>\n",
       "      <th>1</th>\n",
       "      <td>Belle And Sebastian</td>\n",
       "      <td>1.191414</td>\n",
       "    </tr>\n",
       "    <tr>\n",
       "      <th>2</th>\n",
       "      <td>Cut Copy</td>\n",
       "      <td>1.119432</td>\n",
       "    </tr>\n",
       "    <tr>\n",
       "      <th>3</th>\n",
       "      <td>Bloc Party</td>\n",
       "      <td>1.053604</td>\n",
       "    </tr>\n",
       "    <tr>\n",
       "      <th>4</th>\n",
       "      <td>Of Montreal</td>\n",
       "      <td>0.965159</td>\n",
       "    </tr>\n",
       "    <tr>\n",
       "      <th>5</th>\n",
       "      <td>Massive Attack</td>\n",
       "      <td>0.935226</td>\n",
       "    </tr>\n",
       "    <tr>\n",
       "      <th>6</th>\n",
       "      <td>The Decemberists</td>\n",
       "      <td>0.927302</td>\n",
       "    </tr>\n",
       "    <tr>\n",
       "      <th>7</th>\n",
       "      <td>Ben Folds Five</td>\n",
       "      <td>0.916262</td>\n",
       "    </tr>\n",
       "    <tr>\n",
       "      <th>8</th>\n",
       "      <td>Morcheeba</td>\n",
       "      <td>0.869920</td>\n",
       "    </tr>\n",
       "    <tr>\n",
       "      <th>9</th>\n",
       "      <td>Final Fantasy</td>\n",
       "      <td>0.866152</td>\n",
       "    </tr>\n",
       "  </tbody>\n",
       "</table>\n",
       "</div>"
      ],
      "text/plain": [
       "                artist  estimation\n",
       "0      Crystal Castles    1.290774\n",
       "1  Belle And Sebastian    1.191414\n",
       "2             Cut Copy    1.119432\n",
       "3           Bloc Party    1.053604\n",
       "4          Of Montreal    0.965159\n",
       "5       Massive Attack    0.935226\n",
       "6     The Decemberists    0.927302\n",
       "7       Ben Folds Five    0.916262\n",
       "8            Morcheeba    0.869920\n",
       "9        Final Fantasy    0.866152"
      ]
     },
     "execution_count": 98,
     "metadata": {},
     "output_type": "execute_result"
    }
   ],
   "source": [
    "df_predictions"
   ]
  },
  {
   "cell_type": "code",
   "execution_count": 99,
   "metadata": {
    "scrolled": true
   },
   "outputs": [
    {
     "name": "stdout",
     "output_type": "stream",
     "text": [
      "RMSE: 0.4596\n"
     ]
    },
    {
     "data": {
      "text/plain": [
       "0.45959910359602174"
      ]
     },
     "execution_count": 99,
     "metadata": {},
     "output_type": "execute_result"
    }
   ],
   "source": [
    "accuracy.rmse( user_predictions, verbose = True )"
   ]
  },
  {
   "cell_type": "code",
   "execution_count": 31,
   "metadata": {},
   "outputs": [
    {
     "data": {
      "text/plain": [
       "Prediction(uid='user_001000', iid='Kenny Burrell', r_ui=None, est=1.6393711339908208, details={'actual_k': 5, 'was_impossible': False})"
      ]
     },
     "execution_count": 31,
     "metadata": {},
     "output_type": "execute_result"
    }
   ],
   "source": [
    "algo.predict('user_001000','Kenny Burrell')"
   ]
  },
  {
   "cell_type": "code",
   "execution_count": 27,
   "metadata": {
    "scrolled": false
   },
   "outputs": [
    {
     "name": "stdout",
     "output_type": "stream",
     "text": [
      "Computing the cosine similarity matrix...\n",
      "Done computing similarity matrix.\n"
     ]
    },
    {
     "data": {
      "text/plain": [
       "<surprise.prediction_algorithms.knns.KNNBasic at 0x102b81e20>"
      ]
     },
     "execution_count": 27,
     "metadata": {},
     "output_type": "execute_result"
    }
   ],
   "source": [
    "algo.fit(trainset)"
   ]
  },
  {
   "cell_type": "code",
   "execution_count": 41,
   "metadata": {},
   "outputs": [],
   "source": [
    "user_inner_id = algo.trainset.to_inner_uid('user_001000')"
   ]
  },
  {
   "cell_type": "code",
   "execution_count": 49,
   "metadata": {},
   "outputs": [
    {
     "data": {
      "text/plain": [
       "[106, 15, 16, 28, 57, 90, 97, 151, 172, 223]"
      ]
     },
     "execution_count": 49,
     "metadata": {},
     "output_type": "execute_result"
    }
   ],
   "source": [
    "# Retrieve inner ids of the nearest neighbors of Item.\n",
    "user_neighbors = algo.get_neighbors(user_inner_id, k=10)\n",
    "user_neighbors"
   ]
  },
  {
   "cell_type": "code",
   "execution_count": 51,
   "metadata": {},
   "outputs": [
    {
     "name": "stdout",
     "output_type": "stream",
     "text": [
      "user_000947\n",
      "user_000859\n",
      "user_000586\n",
      "user_000153\n",
      "user_000651\n",
      "user_000097\n",
      "user_000425\n",
      "user_000379\n",
      "user_000468\n",
      "user_000718\n"
     ]
    }
   ],
   "source": [
    "neighbors = (algo.trainset.to_raw_uid(rid)\n",
    "                       for rid in user_neighbors)\n",
    "for neighbor in neighbors:\n",
    "    print(neighbor)"
   ]
  }
 ],
 "metadata": {
  "kernelspec": {
   "display_name": "Python 3",
   "language": "python",
   "name": "python3"
  },
  "language_info": {
   "codemirror_mode": {
    "name": "ipython",
    "version": 3
   },
   "file_extension": ".py",
   "mimetype": "text/x-python",
   "name": "python",
   "nbconvert_exporter": "python",
   "pygments_lexer": "ipython3",
   "version": "3.8.1"
  }
 },
 "nbformat": 4,
 "nbformat_minor": 4
}
